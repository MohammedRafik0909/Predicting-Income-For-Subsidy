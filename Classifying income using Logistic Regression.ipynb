{
 "cells": [
  {
   "cell_type": "markdown",
   "id": "e24d9aaa",
   "metadata": {},
   "source": [
    "# Predicting Income For Subsidy using logistic Regression"
   ]
  },
  {
   "cell_type": "code",
   "execution_count": 1,
   "id": "b78d7186",
   "metadata": {},
   "outputs": [],
   "source": [
    "import sklearn"
   ]
  },
  {
   "cell_type": "code",
   "execution_count": 2,
   "id": "faf0421f",
   "metadata": {},
   "outputs": [],
   "source": [
    "#importing package\n",
    "import pandas as pd\n",
    "import numpy as np\n",
    "import seaborn as sns\n",
    "import sklearn\n",
    "from sklearn.model_selection import train_test_split\n",
    "from sklearn.linear_model import LogisticRegression\n",
    "from sklearn.metrics import accuracy_score,confusion_matrix "
   ]
  },
  {
   "cell_type": "code",
   "execution_count": 3,
   "id": "929b30b4",
   "metadata": {},
   "outputs": [],
   "source": [
    "data_inc = pd.read_csv('income(1) (2).csv')"
   ]
  },
  {
   "cell_type": "code",
   "execution_count": 4,
   "id": "1bd205f3",
   "metadata": {},
   "outputs": [
    {
     "data": {
      "text/plain": [
       "415714"
      ]
     },
     "execution_count": 4,
     "metadata": {},
     "output_type": "execute_result"
    }
   ],
   "source": [
    "data_inc.size"
   ]
  },
  {
   "cell_type": "code",
   "execution_count": 5,
   "id": "25b0d703",
   "metadata": {},
   "outputs": [
    {
     "name": "stdout",
     "output_type": "stream",
     "text": [
      "<class 'pandas.core.frame.DataFrame'>\n",
      "RangeIndex: 31978 entries, 0 to 31977\n",
      "Data columns (total 13 columns):\n",
      " #   Column         Non-Null Count  Dtype \n",
      "---  ------         --------------  ----- \n",
      " 0   age            31978 non-null  int64 \n",
      " 1   JobType        31978 non-null  object\n",
      " 2   EdType         31978 non-null  object\n",
      " 3   maritalstatus  31978 non-null  object\n",
      " 4   occupation     31978 non-null  object\n",
      " 5   relationship   31978 non-null  object\n",
      " 6   race           31978 non-null  object\n",
      " 7   gender         31978 non-null  object\n",
      " 8   capitalgain    31978 non-null  int64 \n",
      " 9   capitalloss    31978 non-null  int64 \n",
      " 10  hoursperweek   31978 non-null  int64 \n",
      " 11  nativecountry  31978 non-null  object\n",
      " 12  SalStat        31978 non-null  object\n",
      "dtypes: int64(4), object(9)\n",
      "memory usage: 3.2+ MB\n"
     ]
    }
   ],
   "source": [
    "data_inc.info()"
   ]
  },
  {
   "cell_type": "code",
   "execution_count": 6,
   "id": "24a4a438",
   "metadata": {},
   "outputs": [],
   "source": [
    "data = data_inc.copy()"
   ]
  },
  {
   "cell_type": "code",
   "execution_count": 7,
   "id": "8512c4db",
   "metadata": {},
   "outputs": [
    {
     "name": "stdout",
     "output_type": "stream",
     "text": [
      "<class 'pandas.core.frame.DataFrame'>\n",
      "RangeIndex: 31978 entries, 0 to 31977\n",
      "Data columns (total 13 columns):\n",
      " #   Column         Non-Null Count  Dtype \n",
      "---  ------         --------------  ----- \n",
      " 0   age            31978 non-null  int64 \n",
      " 1   JobType        31978 non-null  object\n",
      " 2   EdType         31978 non-null  object\n",
      " 3   maritalstatus  31978 non-null  object\n",
      " 4   occupation     31978 non-null  object\n",
      " 5   relationship   31978 non-null  object\n",
      " 6   race           31978 non-null  object\n",
      " 7   gender         31978 non-null  object\n",
      " 8   capitalgain    31978 non-null  int64 \n",
      " 9   capitalloss    31978 non-null  int64 \n",
      " 10  hoursperweek   31978 non-null  int64 \n",
      " 11  nativecountry  31978 non-null  object\n",
      " 12  SalStat        31978 non-null  object\n",
      "dtypes: int64(4), object(9)\n",
      "memory usage: 3.2+ MB\n",
      "None\n"
     ]
    }
   ],
   "source": [
    "print(data.info())"
   ]
  },
  {
   "cell_type": "code",
   "execution_count": 8,
   "id": "8784cdf4",
   "metadata": {},
   "outputs": [],
   "source": [
    "#variables are properly and expected datatypes"
   ]
  },
  {
   "cell_type": "code",
   "execution_count": 9,
   "id": "cffccb1b",
   "metadata": {},
   "outputs": [
    {
     "data": {
      "text/plain": [
       "age              0\n",
       "JobType          0\n",
       "EdType           0\n",
       "maritalstatus    0\n",
       "occupation       0\n",
       "relationship     0\n",
       "race             0\n",
       "gender           0\n",
       "capitalgain      0\n",
       "capitalloss      0\n",
       "hoursperweek     0\n",
       "nativecountry    0\n",
       "SalStat          0\n",
       "dtype: int64"
      ]
     },
     "execution_count": 9,
     "metadata": {},
     "output_type": "execute_result"
    }
   ],
   "source": [
    "data.isnull().sum()"
   ]
  },
  {
   "cell_type": "code",
   "execution_count": 10,
   "id": "934de91a",
   "metadata": {},
   "outputs": [],
   "source": [
    "#no missing data"
   ]
  },
  {
   "cell_type": "code",
   "execution_count": 11,
   "id": "d9778535",
   "metadata": {},
   "outputs": [],
   "source": [
    "summary_num = data.describe() "
   ]
  },
  {
   "cell_type": "code",
   "execution_count": 12,
   "id": "224f970e",
   "metadata": {},
   "outputs": [
    {
     "name": "stdout",
     "output_type": "stream",
     "text": [
      "                age   capitalgain   capitalloss  hoursperweek\n",
      "count  31978.000000  31978.000000  31978.000000  31978.000000\n",
      "mean      38.579023   1064.360623     86.739352     40.417850\n",
      "std       13.662085   7298.596271    401.594301     12.345285\n",
      "min       17.000000      0.000000      0.000000      1.000000\n",
      "25%       28.000000      0.000000      0.000000     40.000000\n",
      "50%       37.000000      0.000000      0.000000     40.000000\n",
      "75%       48.000000      0.000000      0.000000     45.000000\n",
      "max       90.000000  99999.000000   4356.000000     99.000000\n"
     ]
    }
   ],
   "source": [
    "print(summary_num)"
   ]
  },
  {
   "cell_type": "code",
   "execution_count": 13,
   "id": "b173684c",
   "metadata": {},
   "outputs": [],
   "source": [
    "summary_cat = data.describe(include= \"O\") #includes object"
   ]
  },
  {
   "cell_type": "code",
   "execution_count": 14,
   "id": "b6d0f7fb",
   "metadata": {},
   "outputs": [
    {
     "name": "stdout",
     "output_type": "stream",
     "text": [
      "         JobType    EdType        maritalstatus       occupation relationship  \\\n",
      "count      31978     31978                31978            31978        31978   \n",
      "unique         9        16                    7               15            6   \n",
      "top      Private   HS-grad   Married-civ-spouse   Prof-specialty      Husband   \n",
      "freq       22286     10368                14692             4038        12947   \n",
      "\n",
      "          race gender   nativecountry                        SalStat  \n",
      "count    31978  31978           31978                          31978  \n",
      "unique       5      2              41                              2  \n",
      "top      White   Male   United-States   less than or equal to 50,000  \n",
      "freq     27430  21370           29170                          24283  \n"
     ]
    }
   ],
   "source": [
    "print(summary_cat)"
   ]
  },
  {
   "cell_type": "code",
   "execution_count": 15,
   "id": "417d1aff",
   "metadata": {},
   "outputs": [
    {
     "data": {
      "text/plain": [
       " Private             22286\n",
       " Self-emp-not-inc     2499\n",
       " Local-gov            2067\n",
       " ?                    1809\n",
       " State-gov            1279\n",
       " Self-emp-inc         1074\n",
       " Federal-gov           943\n",
       " Without-pay            14\n",
       " Never-worked            7\n",
       "Name: JobType, dtype: int64"
      ]
     },
     "execution_count": 15,
     "metadata": {},
     "output_type": "execute_result"
    }
   ],
   "source": [
    "data['JobType'].value_counts()#counts frequency"
   ]
  },
  {
   "cell_type": "code",
   "execution_count": 16,
   "id": "7480bb4a",
   "metadata": {},
   "outputs": [
    {
     "data": {
      "text/plain": [
       " Prof-specialty       4038\n",
       " Craft-repair         4030\n",
       " Exec-managerial      3992\n",
       " Adm-clerical         3721\n",
       " Sales                3584\n",
       " Other-service        3212\n",
       " Machine-op-inspct    1966\n",
       " ?                    1816\n",
       " Transport-moving     1572\n",
       " Handlers-cleaners    1350\n",
       " Farming-fishing       989\n",
       " Tech-support          912\n",
       " Protective-serv       644\n",
       " Priv-house-serv       143\n",
       " Armed-Forces            9\n",
       "Name: occupation, dtype: int64"
      ]
     },
     "execution_count": 16,
     "metadata": {},
     "output_type": "execute_result"
    }
   ],
   "source": [
    "data['occupation'].value_counts()"
   ]
  },
  {
   "cell_type": "code",
   "execution_count": 17,
   "id": "68e52d4e",
   "metadata": {},
   "outputs": [
    {
     "data": {
      "text/plain": [
       "array([' ?', ' Federal-gov', ' Local-gov', ' Never-worked', ' Private',\n",
       "       ' Self-emp-inc', ' Self-emp-not-inc', ' State-gov', ' Without-pay'],\n",
       "      dtype=object)"
      ]
     },
     "execution_count": 17,
     "metadata": {},
     "output_type": "execute_result"
    }
   ],
   "source": [
    "np.unique(data['JobType'])#hence specail character occured"
   ]
  },
  {
   "cell_type": "code",
   "execution_count": 18,
   "id": "92dbbece",
   "metadata": {},
   "outputs": [],
   "source": [
    "data = pd.read_csv('income(1) (2).csv',na_values=[\" ?\"])#replcing ? as na"
   ]
  },
  {
   "cell_type": "code",
   "execution_count": 19,
   "id": "d4586879",
   "metadata": {},
   "outputs": [],
   "source": [
    "## pre processing"
   ]
  },
  {
   "cell_type": "code",
   "execution_count": 20,
   "id": "86b00aa7",
   "metadata": {},
   "outputs": [
    {
     "data": {
      "text/plain": [
       "age                 0\n",
       "JobType          1809\n",
       "EdType              0\n",
       "maritalstatus       0\n",
       "occupation       1816\n",
       "relationship        0\n",
       "race                0\n",
       "gender              0\n",
       "capitalgain         0\n",
       "capitalloss         0\n",
       "hoursperweek        0\n",
       "nativecountry       0\n",
       "SalStat             0\n",
       "dtype: int64"
      ]
     },
     "execution_count": 20,
     "metadata": {},
     "output_type": "execute_result"
    }
   ],
   "source": [
    "data.isnull().sum()"
   ]
  },
  {
   "cell_type": "code",
   "execution_count": 21,
   "id": "db921f28",
   "metadata": {},
   "outputs": [],
   "source": [
    "#after changing ? as nan missing values occurred in jobtype and occupation"
   ]
  },
  {
   "cell_type": "code",
   "execution_count": 22,
   "id": "9f389573",
   "metadata": {},
   "outputs": [],
   "source": [
    "missing = data[data.isnull().any(axis=1)]"
   ]
  },
  {
   "cell_type": "code",
   "execution_count": 23,
   "id": "52a2fd0f",
   "metadata": {},
   "outputs": [
    {
     "name": "stdout",
     "output_type": "stream",
     "text": [
      "       age JobType         EdType        maritalstatus occupation  \\\n",
      "8       17     NaN           11th        Never-married        NaN   \n",
      "17      32     NaN   Some-college   Married-civ-spouse        NaN   \n",
      "29      22     NaN   Some-college        Never-married        NaN   \n",
      "42      52     NaN           12th        Never-married        NaN   \n",
      "44      63     NaN        1st-4th   Married-civ-spouse        NaN   \n",
      "...    ...     ...            ...                  ...        ...   \n",
      "31892   59     NaN      Bachelors   Married-civ-spouse        NaN   \n",
      "31934   20     NaN        HS-grad        Never-married        NaN   \n",
      "31945   28     NaN   Some-college   Married-civ-spouse        NaN   \n",
      "31967   80     NaN        HS-grad              Widowed        NaN   \n",
      "31968   17     NaN           11th        Never-married        NaN   \n",
      "\n",
      "          relationship    race   gender  capitalgain  capitalloss  \\\n",
      "8            Own-child   White   Female            0            0   \n",
      "17             Husband   White     Male            0            0   \n",
      "29           Own-child   White     Male            0            0   \n",
      "42      Other-relative   Black     Male          594            0   \n",
      "44             Husband   White     Male            0            0   \n",
      "...                ...     ...      ...          ...          ...   \n",
      "31892          Husband   White     Male            0            0   \n",
      "31934   Other-relative   White   Female            0            0   \n",
      "31945             Wife   White   Female            0         1887   \n",
      "31967    Not-in-family   White     Male            0            0   \n",
      "31968        Own-child   White     Male            0            0   \n",
      "\n",
      "       hoursperweek   nativecountry                        SalStat  \n",
      "8                 5   United-States   less than or equal to 50,000  \n",
      "17               40   United-States   less than or equal to 50,000  \n",
      "29               40   United-States   less than or equal to 50,000  \n",
      "42               40   United-States   less than or equal to 50,000  \n",
      "44               35   United-States   less than or equal to 50,000  \n",
      "...             ...             ...                            ...  \n",
      "31892            40   United-States            greater than 50,000  \n",
      "31934            35   United-States   less than or equal to 50,000  \n",
      "31945            40   United-States            greater than 50,000  \n",
      "31967            24   United-States   less than or equal to 50,000  \n",
      "31968            40   United-States   less than or equal to 50,000  \n",
      "\n",
      "[1816 rows x 13 columns]\n"
     ]
    }
   ],
   "source": [
    "print(missing)"
   ]
  },
  {
   "cell_type": "code",
   "execution_count": 24,
   "id": "544f7c09",
   "metadata": {},
   "outputs": [
    {
     "data": {
      "text/plain": [
       "'points to note\\n1.missing values in jobtype = 1809\\n2.missing value in occupation = 1816\\n3.since occupation missing jobtype also missing but 1816-1809 = 7 \\nhence,there are still 7 rows because jobtype is never worked'"
      ]
     },
     "execution_count": 24,
     "metadata": {},
     "output_type": "execute_result"
    }
   ],
   "source": [
    "\"\"\"points to note\n",
    "1.missing values in jobtype = 1809\n",
    "2.missing value in occupation = 1816\n",
    "3.since occupation missing jobtype also missing but 1816-1809 = 7 \n",
    "hence,there are still 7 rows because jobtype is never worked\"\"\""
   ]
  },
  {
   "cell_type": "code",
   "execution_count": 25,
   "id": "c88114ef",
   "metadata": {},
   "outputs": [],
   "source": [
    "data2 = data.dropna(axis=0)#removing missing value "
   ]
  },
  {
   "cell_type": "code",
   "execution_count": 26,
   "id": "13223885",
   "metadata": {},
   "outputs": [],
   "source": [
    "cor = data2.corr()"
   ]
  },
  {
   "cell_type": "code",
   "execution_count": 27,
   "id": "f622bcb3",
   "metadata": {},
   "outputs": [
    {
     "name": "stdout",
     "output_type": "stream",
     "text": [
      "                   age  capitalgain  capitalloss  hoursperweek\n",
      "age           1.000000     0.080154     0.060165      0.101599\n",
      "capitalgain   0.080154     1.000000    -0.032229      0.080432\n",
      "capitalloss   0.060165    -0.032229     1.000000      0.052417\n",
      "hoursperweek  0.101599     0.080432     0.052417      1.000000\n"
     ]
    }
   ],
   "source": [
    "print(cor)"
   ]
  },
  {
   "cell_type": "code",
   "execution_count": 28,
   "id": "65f0c938",
   "metadata": {},
   "outputs": [
    {
     "data": {
      "text/plain": [
       "Index(['age', 'JobType', 'EdType', 'maritalstatus', 'occupation',\n",
       "       'relationship', 'race', 'gender', 'capitalgain', 'capitalloss',\n",
       "       'hoursperweek', 'nativecountry', 'SalStat'],\n",
       "      dtype='object')"
      ]
     },
     "execution_count": 28,
     "metadata": {},
     "output_type": "execute_result"
    }
   ],
   "source": [
    "data2.columns"
   ]
  },
  {
   "cell_type": "code",
   "execution_count": 29,
   "id": "c1db63e0",
   "metadata": {},
   "outputs": [],
   "source": [
    "gender = pd.crosstab(index = data2['gender'],columns='count',normalize = True)"
   ]
  },
  {
   "cell_type": "code",
   "execution_count": 30,
   "id": "1a280a39",
   "metadata": {},
   "outputs": [
    {
     "name": "stdout",
     "output_type": "stream",
     "text": [
      "col_0       count\n",
      "gender           \n",
      " Female  0.324315\n",
      " Male    0.675685\n"
     ]
    }
   ],
   "source": [
    "print(gender)"
   ]
  },
  {
   "cell_type": "code",
   "execution_count": 31,
   "id": "ceb291c6",
   "metadata": {},
   "outputs": [],
   "source": [
    "gender_salsat = pd.crosstab(index = data2['gender'],columns = data2['SalStat'],\n",
    "                           margins=True,normalize='index')"
   ]
  },
  {
   "cell_type": "code",
   "execution_count": 32,
   "id": "52135d47",
   "metadata": {},
   "outputs": [
    {
     "name": "stdout",
     "output_type": "stream",
     "text": [
      "SalStat   greater than 50,000   less than or equal to 50,000\n",
      "gender                                                      \n",
      " Female              0.113678                       0.886322\n",
      " Male                0.313837                       0.686163\n",
      "All                  0.248922                       0.751078\n"
     ]
    }
   ],
   "source": [
    "print(gender_salsat)"
   ]
  },
  {
   "cell_type": "code",
   "execution_count": 33,
   "id": "882306e8",
   "metadata": {},
   "outputs": [
    {
     "name": "stderr",
     "output_type": "stream",
     "text": [
      "C:\\Users\\mohammed rafik m\\Downloads\\New folder\\anaconda\\lib\\site-packages\\seaborn\\_decorators.py:36: FutureWarning: Pass the following variable as a keyword arg: x. From version 0.12, the only valid positional argument will be `data`, and passing other arguments without an explicit keyword will result in an error or misinterpretation.\n",
      "  warnings.warn(\n"
     ]
    },
    {
     "data": {
      "image/png": "[encoded data removed]",
      "text/plain": [
       "<Figure size 432x288 with 1 Axes>"
      ]
     },
     "metadata": {
      "needs_background": "light"
     },
     "output_type": "display_data"
    }
   ],
   "source": [
    "salstat = sns.countplot(data2['SalStat'])#barplot for salstatus"
   ]
  },
  {
   "cell_type": "code",
   "execution_count": 34,
   "id": "57397f8e",
   "metadata": {},
   "outputs": [
    {
     "name": "stderr",
     "output_type": "stream",
     "text": [
      "C:\\Users\\mohammed rafik m\\Downloads\\New folder\\anaconda\\lib\\site-packages\\seaborn\\distributions.py:2619: FutureWarning: `distplot` is a deprecated function and will be removed in a future version. Please adapt your code to use either `displot` (a figure-level function with similar flexibility) or `histplot` (an axes-level function for histograms).\n",
      "  warnings.warn(msg, FutureWarning)\n"
     ]
    },
    {
     "data": {
      "text/plain": [
       "<AxesSubplot:xlabel='age'>"
      ]
     },
     "execution_count": 34,
     "metadata": {},
     "output_type": "execute_result"
    },
    {
     "data": {
      "image/png": "[encoded data removed]",
      "text/plain": [
       "<Figure size 432x288 with 1 Axes>"
      ]
     },
     "metadata": {
      "needs_background": "light"
     },
     "output_type": "display_data"
    }
   ],
   "source": [
    "sns.distplot(data2['age'],bins=10,kde=False)"
   ]
  },
  {
   "cell_type": "code",
   "execution_count": 35,
   "id": "9ba7209f",
   "metadata": {},
   "outputs": [],
   "source": [
    "#age 20-45 high in frequency"
   ]
  },
  {
   "cell_type": "code",
   "execution_count": 36,
   "id": "bbe2f29a",
   "metadata": {},
   "outputs": [],
   "source": [
    "#to check how salary is affect age we use boxplot bivariant"
   ]
  },
  {
   "cell_type": "code",
   "execution_count": 37,
   "id": "58144c9b",
   "metadata": {},
   "outputs": [
    {
     "name": "stderr",
     "output_type": "stream",
     "text": [
      "C:\\Users\\mohammed rafik m\\Downloads\\New folder\\anaconda\\lib\\site-packages\\seaborn\\_decorators.py:36: FutureWarning: Pass the following variables as keyword args: x, y. From version 0.12, the only valid positional argument will be `data`, and passing other arguments without an explicit keyword will result in an error or misinterpretation.\n",
      "  warnings.warn(\n"
     ]
    },
    {
     "data": {
      "text/plain": [
       "SalStat\n",
       " greater than 50,000             43.0\n",
       " less than or equal to 50,000    34.0\n",
       "Name: age, dtype: float64"
      ]
     },
     "execution_count": 37,
     "metadata": {},
     "output_type": "execute_result"
    },
    {
     "data": {
      "image/png": "[encoded data removed]",
      "text/plain": [
       "<Figure size 432x288 with 1 Axes>"
      ]
     },
     "metadata": {
      "needs_background": "light"
     },
     "output_type": "display_data"
    }
   ],
   "source": [
    "sns.boxplot('SalStat','age',data= data2)\n",
    "data2.groupby('SalStat')['age'].median()"
   ]
  },
  {
   "cell_type": "code",
   "execution_count": 38,
   "id": "2a2c82a5",
   "metadata": {},
   "outputs": [],
   "source": [
    "#logistic regression is a ml algorithm that predict the probability of catergorical dependent variable"
   ]
  },
  {
   "cell_type": "code",
   "execution_count": 39,
   "id": "1b15456b",
   "metadata": {},
   "outputs": [
    {
     "data": {
      "text/plain": [
       "<AxesSubplot:xlabel='age', ylabel='SalStat'>"
      ]
     },
     "execution_count": 39,
     "metadata": {},
     "output_type": "execute_result"
    },
    {
     "data": {
      "image/png": "[encoded data removed]",
      "text/plain": [
       "<Figure size 432x288 with 1 Axes>"
      ]
     },
     "metadata": {
      "needs_background": "light"
     },
     "output_type": "display_data"
    }
   ],
   "source": [
    "sns.barplot(x='age',y='SalStat',data=data2)"
   ]
  },
  {
   "cell_type": "code",
   "execution_count": 40,
   "id": "2351315e",
   "metadata": {},
   "outputs": [
    {
     "data": {
      "image/png": "[encoded data removed]",
      "text/plain": [
       "<Figure size 432x288 with 1 Axes>"
      ]
     },
     "metadata": {
      "needs_background": "light"
     },
     "output_type": "display_data"
    }
   ],
   "source": [
    "JobType = sns.countplot(y=data2['JobType'],hue = 'SalStat', data=data2)"
   ]
  },
  {
   "cell_type": "code",
   "execution_count": 41,
   "id": "f8e06850",
   "metadata": {},
   "outputs": [],
   "source": [
    "job_salstat = pd.crosstab(index=data2['JobType'],columns=data2['SalStat'],margins=True,normalize='index')"
   ]
  },
  {
   "cell_type": "code",
   "execution_count": 42,
   "id": "be6d5e0a",
   "metadata": {},
   "outputs": [],
   "source": [
    "#salstat is category so hence channge to int using map\n"
   ]
  },
  {
   "cell_type": "code",
   "execution_count": null,
   "id": "03571a1d",
   "metadata": {},
   "outputs": [],
   "source": []
  },
  {
   "cell_type": "code",
   "execution_count": 43,
   "id": "b0a27e33",
   "metadata": {},
   "outputs": [
    {
     "name": "stdout",
     "output_type": "stream",
     "text": [
      "0         less than or equal to 50,000\n",
      "1         less than or equal to 50,000\n",
      "2                  greater than 50,000\n",
      "3         less than or equal to 50,000\n",
      "4         less than or equal to 50,000\n",
      "                     ...              \n",
      "31973     less than or equal to 50,000\n",
      "31974     less than or equal to 50,000\n",
      "31975     less than or equal to 50,000\n",
      "31976     less than or equal to 50,000\n",
      "31977     less than or equal to 50,000\n",
      "Name: SalStat, Length: 30162, dtype: object\n"
     ]
    }
   ],
   "source": [
    "print(data2['SalStat'])"
   ]
  },
  {
   "cell_type": "code",
   "execution_count": 44,
   "id": "2c0ff478",
   "metadata": {},
   "outputs": [
    {
     "name": "stderr",
     "output_type": "stream",
     "text": [
      "C:\\Users\\mohammed rafik m\\Downloads\\New folder\\anaconda\\lib\\site-packages\\seaborn\\distributions.py:2619: FutureWarning: `distplot` is a deprecated function and will be removed in a future version. Please adapt your code to use either `displot` (a figure-level function with similar flexibility) or `histplot` (an axes-level function for histograms).\n",
      "  warnings.warn(msg, FutureWarning)\n"
     ]
    },
    {
     "data": {
      "text/plain": [
       "<AxesSubplot:xlabel='capitalgain'>"
      ]
     },
     "execution_count": 44,
     "metadata": {},
     "output_type": "execute_result"
    },
    {
     "data": {
      "image/png": "[encoded data removed]",
      "text/plain": [
       "<Figure size 432x288 with 1 Axes>"
      ]
     },
     "metadata": {
      "needs_background": "light"
     },
     "output_type": "display_data"
    }
   ],
   "source": [
    "sns.distplot(data2['capitalgain'], bins = 10, kde = False)\n"
   ]
  },
  {
   "cell_type": "code",
   "execution_count": 45,
   "id": "80c89f4a",
   "metadata": {},
   "outputs": [
    {
     "data": {
      "text/plain": [
       "<AxesSubplot:xlabel='capitalloss'>"
      ]
     },
     "execution_count": 45,
     "metadata": {},
     "output_type": "execute_result"
    },
    {
     "data": {
      "image/png": "[encoded data removed]",
      "text/plain": [
       "<Figure size 432x288 with 1 Axes>"
      ]
     },
     "metadata": {
      "needs_background": "light"
     },
     "output_type": "display_data"
    }
   ],
   "source": [
    "sns.distplot(data2['capitalloss'], bins = 10, kde = False)\n"
   ]
  },
  {
   "cell_type": "code",
   "execution_count": 46,
   "id": "dcd1504b",
   "metadata": {},
   "outputs": [],
   "source": [
    "#logistic regression"
   ]
  },
  {
   "cell_type": "code",
   "execution_count": 47,
   "id": "191cb904",
   "metadata": {},
   "outputs": [],
   "source": [
    "#chaning catergory to int"
   ]
  },
  {
   "cell_type": "code",
   "execution_count": 48,
   "id": "fd05d849",
   "metadata": {},
   "outputs": [
    {
     "name": "stdout",
     "output_type": "stream",
     "text": [
      "0        0\n",
      "1        0\n",
      "2        1\n",
      "3        0\n",
      "4        0\n",
      "        ..\n",
      "31973    0\n",
      "31974    0\n",
      "31975    0\n",
      "31976    0\n",
      "31977    0\n",
      "Name: SalStat, Length: 30162, dtype: int64\n"
     ]
    },
    {
     "name": "stderr",
     "output_type": "stream",
     "text": [
      "C:\\Users\\mohammed rafik m\\AppData\\Local\\Temp\\ipykernel_6480\\784685041.py:1: SettingWithCopyWarning: \n",
      "A value is trying to be set on a copy of a slice from a DataFrame.\n",
      "Try using .loc[row_indexer,col_indexer] = value instead\n",
      "\n",
      "See the caveats in the documentation: https://pandas.pydata.org/pandas-docs/stable/user_guide/indexing.html#returning-a-view-versus-a-copy\n",
      "  data2['SalStat']=data2['SalStat'].map({' less than or equal to 50,000':0,' greater than 50,000':1})\n"
     ]
    }
   ],
   "source": [
    "data2['SalStat']=data2['SalStat'].map({' less than or equal to 50,000':0,' greater than 50,000':1})\n",
    "print(data2['SalStat'])"
   ]
  },
  {
   "cell_type": "code",
   "execution_count": 49,
   "id": "01616f23",
   "metadata": {},
   "outputs": [
    {
     "data": {
      "text/plain": [
       "0    22654\n",
       "1     7508\n",
       "Name: SalStat, dtype: int64"
      ]
     },
     "execution_count": 49,
     "metadata": {},
     "output_type": "execute_result"
    }
   ],
   "source": [
    "data2['SalStat'].value_counts()"
   ]
  },
  {
   "cell_type": "code",
   "execution_count": 50,
   "id": "327ad874",
   "metadata": {},
   "outputs": [],
   "source": [
    "new_data =pd.get_dummies(data2,drop_first = True)"
   ]
  },
  {
   "cell_type": "code",
   "execution_count": 51,
   "id": "08163b55",
   "metadata": {},
   "outputs": [
    {
     "data": {
      "text/html": [
       "<div>\n",
       "<style scoped>\n",
       "    .dataframe tbody tr th:only-of-type {\n",
       "        vertical-align: middle;\n",
       "    }\n",
       "\n",
       "    .dataframe tbody tr th {\n",
       "        vertical-align: top;\n",
       "    }\n",
       "\n",
       "    .dataframe thead th {\n",
       "        text-align: right;\n",
       "    }\n",
       "</style>\n",
       "<table border=\"1\" class=\"dataframe\">\n",
       "  <thead>\n",
       "    <tr style=\"text-align: right;\">\n",
       "      <th></th>\n",
       "      <th>age</th>\n",
       "      <th>capitalgain</th>\n",
       "      <th>capitalloss</th>\n",
       "      <th>hoursperweek</th>\n",
       "      <th>SalStat</th>\n",
       "      <th>JobType_ Local-gov</th>\n",
       "      <th>JobType_ Private</th>\n",
       "      <th>JobType_ Self-emp-inc</th>\n",
       "      <th>JobType_ Self-emp-not-inc</th>\n",
       "      <th>JobType_ State-gov</th>\n",
       "      <th>...</th>\n",
       "      <th>nativecountry_ Portugal</th>\n",
       "      <th>nativecountry_ Puerto-Rico</th>\n",
       "      <th>nativecountry_ Scotland</th>\n",
       "      <th>nativecountry_ South</th>\n",
       "      <th>nativecountry_ Taiwan</th>\n",
       "      <th>nativecountry_ Thailand</th>\n",
       "      <th>nativecountry_ Trinadad&amp;Tobago</th>\n",
       "      <th>nativecountry_ United-States</th>\n",
       "      <th>nativecountry_ Vietnam</th>\n",
       "      <th>nativecountry_ Yugoslavia</th>\n",
       "    </tr>\n",
       "  </thead>\n",
       "  <tbody>\n",
       "    <tr>\n",
       "      <th>0</th>\n",
       "      <td>45</td>\n",
       "      <td>0</td>\n",
       "      <td>0</td>\n",
       "      <td>28</td>\n",
       "      <td>0</td>\n",
       "      <td>0</td>\n",
       "      <td>1</td>\n",
       "      <td>0</td>\n",
       "      <td>0</td>\n",
       "      <td>0</td>\n",
       "      <td>...</td>\n",
       "      <td>0</td>\n",
       "      <td>0</td>\n",
       "      <td>0</td>\n",
       "      <td>0</td>\n",
       "      <td>0</td>\n",
       "      <td>0</td>\n",
       "      <td>0</td>\n",
       "      <td>1</td>\n",
       "      <td>0</td>\n",
       "      <td>0</td>\n",
       "    </tr>\n",
       "    <tr>\n",
       "      <th>1</th>\n",
       "      <td>24</td>\n",
       "      <td>0</td>\n",
       "      <td>0</td>\n",
       "      <td>40</td>\n",
       "      <td>0</td>\n",
       "      <td>0</td>\n",
       "      <td>0</td>\n",
       "      <td>0</td>\n",
       "      <td>0</td>\n",
       "      <td>0</td>\n",
       "      <td>...</td>\n",
       "      <td>0</td>\n",
       "      <td>0</td>\n",
       "      <td>0</td>\n",
       "      <td>0</td>\n",
       "      <td>0</td>\n",
       "      <td>0</td>\n",
       "      <td>0</td>\n",
       "      <td>1</td>\n",
       "      <td>0</td>\n",
       "      <td>0</td>\n",
       "    </tr>\n",
       "    <tr>\n",
       "      <th>2</th>\n",
       "      <td>44</td>\n",
       "      <td>0</td>\n",
       "      <td>0</td>\n",
       "      <td>40</td>\n",
       "      <td>1</td>\n",
       "      <td>0</td>\n",
       "      <td>1</td>\n",
       "      <td>0</td>\n",
       "      <td>0</td>\n",
       "      <td>0</td>\n",
       "      <td>...</td>\n",
       "      <td>0</td>\n",
       "      <td>0</td>\n",
       "      <td>0</td>\n",
       "      <td>0</td>\n",
       "      <td>0</td>\n",
       "      <td>0</td>\n",
       "      <td>0</td>\n",
       "      <td>1</td>\n",
       "      <td>0</td>\n",
       "      <td>0</td>\n",
       "    </tr>\n",
       "    <tr>\n",
       "      <th>3</th>\n",
       "      <td>27</td>\n",
       "      <td>0</td>\n",
       "      <td>0</td>\n",
       "      <td>40</td>\n",
       "      <td>0</td>\n",
       "      <td>0</td>\n",
       "      <td>1</td>\n",
       "      <td>0</td>\n",
       "      <td>0</td>\n",
       "      <td>0</td>\n",
       "      <td>...</td>\n",
       "      <td>0</td>\n",
       "      <td>0</td>\n",
       "      <td>0</td>\n",
       "      <td>0</td>\n",
       "      <td>0</td>\n",
       "      <td>0</td>\n",
       "      <td>0</td>\n",
       "      <td>0</td>\n",
       "      <td>0</td>\n",
       "      <td>0</td>\n",
       "    </tr>\n",
       "    <tr>\n",
       "      <th>4</th>\n",
       "      <td>20</td>\n",
       "      <td>0</td>\n",
       "      <td>0</td>\n",
       "      <td>35</td>\n",
       "      <td>0</td>\n",
       "      <td>0</td>\n",
       "      <td>1</td>\n",
       "      <td>0</td>\n",
       "      <td>0</td>\n",
       "      <td>0</td>\n",
       "      <td>...</td>\n",
       "      <td>0</td>\n",
       "      <td>0</td>\n",
       "      <td>0</td>\n",
       "      <td>0</td>\n",
       "      <td>0</td>\n",
       "      <td>0</td>\n",
       "      <td>0</td>\n",
       "      <td>1</td>\n",
       "      <td>0</td>\n",
       "      <td>0</td>\n",
       "    </tr>\n",
       "  </tbody>\n",
       "</table>\n",
       "<p>5 rows × 95 columns</p>\n",
       "</div>"
      ],
      "text/plain": [
       "   age  capitalgain  capitalloss  hoursperweek  SalStat  JobType_ Local-gov  \\\n",
       "0   45            0            0            28        0                   0   \n",
       "1   24            0            0            40        0                   0   \n",
       "2   44            0            0            40        1                   0   \n",
       "3   27            0            0            40        0                   0   \n",
       "4   20            0            0            35        0                   0   \n",
       "\n",
       "   JobType_ Private  JobType_ Self-emp-inc  JobType_ Self-emp-not-inc  \\\n",
       "0                 1                      0                          0   \n",
       "1                 0                      0                          0   \n",
       "2                 1                      0                          0   \n",
       "3                 1                      0                          0   \n",
       "4                 1                      0                          0   \n",
       "\n",
       "   JobType_ State-gov  ...  nativecountry_ Portugal  \\\n",
       "0                   0  ...                        0   \n",
       "1                   0  ...                        0   \n",
       "2                   0  ...                        0   \n",
       "3                   0  ...                        0   \n",
       "4                   0  ...                        0   \n",
       "\n",
       "   nativecountry_ Puerto-Rico  nativecountry_ Scotland  nativecountry_ South  \\\n",
       "0                           0                        0                     0   \n",
       "1                           0                        0                     0   \n",
       "2                           0                        0                     0   \n",
       "3                           0                        0                     0   \n",
       "4                           0                        0                     0   \n",
       "\n",
       "   nativecountry_ Taiwan  nativecountry_ Thailand  \\\n",
       "0                      0                        0   \n",
       "1                      0                        0   \n",
       "2                      0                        0   \n",
       "3                      0                        0   \n",
       "4                      0                        0   \n",
       "\n",
       "   nativecountry_ Trinadad&Tobago  nativecountry_ United-States  \\\n",
       "0                               0                             1   \n",
       "1                               0                             1   \n",
       "2                               0                             1   \n",
       "3                               0                             0   \n",
       "4                               0                             1   \n",
       "\n",
       "   nativecountry_ Vietnam  nativecountry_ Yugoslavia  \n",
       "0                       0                          0  \n",
       "1                       0                          0  \n",
       "2                       0                          0  \n",
       "3                       0                          0  \n",
       "4                       0                          0  \n",
       "\n",
       "[5 rows x 95 columns]"
      ]
     },
     "execution_count": 51,
     "metadata": {},
     "output_type": "execute_result"
    }
   ],
   "source": [
    "new_data.head()"
   ]
  },
  {
   "cell_type": "code",
   "execution_count": 52,
   "id": "3334ed4e",
   "metadata": {},
   "outputs": [
    {
     "name": "stdout",
     "output_type": "stream",
     "text": [
      "['age', 'capitalgain', 'capitalloss', 'hoursperweek', 'SalStat', 'JobType_ Local-gov', 'JobType_ Private', 'JobType_ Self-emp-inc', 'JobType_ Self-emp-not-inc', 'JobType_ State-gov', 'JobType_ Without-pay', 'EdType_ 11th', 'EdType_ 12th', 'EdType_ 1st-4th', 'EdType_ 5th-6th', 'EdType_ 7th-8th', 'EdType_ 9th', 'EdType_ Assoc-acdm', 'EdType_ Assoc-voc', 'EdType_ Bachelors', 'EdType_ Doctorate', 'EdType_ HS-grad', 'EdType_ Masters', 'EdType_ Preschool', 'EdType_ Prof-school', 'EdType_ Some-college', 'maritalstatus_ Married-AF-spouse', 'maritalstatus_ Married-civ-spouse', 'maritalstatus_ Married-spouse-absent', 'maritalstatus_ Never-married', 'maritalstatus_ Separated', 'maritalstatus_ Widowed', 'occupation_ Armed-Forces', 'occupation_ Craft-repair', 'occupation_ Exec-managerial', 'occupation_ Farming-fishing', 'occupation_ Handlers-cleaners', 'occupation_ Machine-op-inspct', 'occupation_ Other-service', 'occupation_ Priv-house-serv', 'occupation_ Prof-specialty', 'occupation_ Protective-serv', 'occupation_ Sales', 'occupation_ Tech-support', 'occupation_ Transport-moving', 'relationship_ Not-in-family', 'relationship_ Other-relative', 'relationship_ Own-child', 'relationship_ Unmarried', 'relationship_ Wife', 'race_ Asian-Pac-Islander', 'race_ Black', 'race_ Other', 'race_ White', 'gender_ Male', 'nativecountry_ Canada', 'nativecountry_ China', 'nativecountry_ Columbia', 'nativecountry_ Cuba', 'nativecountry_ Dominican-Republic', 'nativecountry_ Ecuador', 'nativecountry_ El-Salvador', 'nativecountry_ England', 'nativecountry_ France', 'nativecountry_ Germany', 'nativecountry_ Greece', 'nativecountry_ Guatemala', 'nativecountry_ Haiti', 'nativecountry_ Holand-Netherlands', 'nativecountry_ Honduras', 'nativecountry_ Hong', 'nativecountry_ Hungary', 'nativecountry_ India', 'nativecountry_ Iran', 'nativecountry_ Ireland', 'nativecountry_ Italy', 'nativecountry_ Jamaica', 'nativecountry_ Japan', 'nativecountry_ Laos', 'nativecountry_ Mexico', 'nativecountry_ Nicaragua', 'nativecountry_ Outlying-US(Guam-USVI-etc)', 'nativecountry_ Peru', 'nativecountry_ Philippines', 'nativecountry_ Poland', 'nativecountry_ Portugal', 'nativecountry_ Puerto-Rico', 'nativecountry_ Scotland', 'nativecountry_ South', 'nativecountry_ Taiwan', 'nativecountry_ Thailand', 'nativecountry_ Trinadad&Tobago', 'nativecountry_ United-States', 'nativecountry_ Vietnam', 'nativecountry_ Yugoslavia']\n"
     ]
    }
   ],
   "source": [
    "columns_list=list(new_data.columns)\n",
    "print(columns_list)\n",
    "\n"
   ]
  },
  {
   "cell_type": "code",
   "execution_count": 53,
   "id": "09bf7409",
   "metadata": {},
   "outputs": [
    {
     "name": "stdout",
     "output_type": "stream",
     "text": [
      "['nativecountry_ Vietnam', 'JobType_ Local-gov', 'nativecountry_ Philippines', 'EdType_ 12th', 'EdType_ Masters', 'JobType_ Private', 'nativecountry_ France', 'EdType_ Prof-school', 'nativecountry_ Holand-Netherlands', 'gender_ Male', 'race_ White', 'JobType_ Self-emp-inc', 'race_ Black', 'EdType_ 9th', 'EdType_ Assoc-acdm', 'EdType_ 1st-4th', 'EdType_ Some-college', 'nativecountry_ Columbia', 'nativecountry_ Honduras', 'nativecountry_ Outlying-US(Guam-USVI-etc)', 'nativecountry_ South', 'occupation_ Sales', 'race_ Other', 'nativecountry_ Jamaica', 'relationship_ Not-in-family', 'EdType_ 7th-8th', 'occupation_ Craft-repair', 'relationship_ Own-child', 'nativecountry_ Canada', 'nativecountry_ Cuba', 'capitalgain', 'nativecountry_ Scotland', 'nativecountry_ Dominican-Republic', 'nativecountry_ United-States', 'nativecountry_ Ecuador', 'nativecountry_ Nicaragua', 'maritalstatus_ Separated', 'nativecountry_ Puerto-Rico', 'relationship_ Wife', 'maritalstatus_ Never-married', 'nativecountry_ Laos', 'nativecountry_ Peru', 'nativecountry_ Haiti', 'maritalstatus_ Married-AF-spouse', 'occupation_ Exec-managerial', 'occupation_ Farming-fishing', 'nativecountry_ England', 'nativecountry_ Mexico', 'EdType_ Doctorate', 'maritalstatus_ Married-civ-spouse', 'JobType_ Without-pay', 'nativecountry_ Ireland', 'nativecountry_ Greece', 'age', 'occupation_ Priv-house-serv', 'race_ Asian-Pac-Islander', 'JobType_ Self-emp-not-inc', 'EdType_ 5th-6th', 'maritalstatus_ Widowed', 'occupation_ Transport-moving', 'nativecountry_ India', 'nativecountry_ Yugoslavia', 'nativecountry_ Germany', 'EdType_ Assoc-voc', 'relationship_ Unmarried', 'nativecountry_ Taiwan', 'nativecountry_ Hungary', 'nativecountry_ El-Salvador', 'hoursperweek', 'nativecountry_ China', 'occupation_ Tech-support', 'occupation_ Protective-serv', 'nativecountry_ Japan', 'EdType_ Bachelors', 'nativecountry_ Italy', 'nativecountry_ Trinadad&Tobago', 'occupation_ Armed-Forces', 'relationship_ Other-relative', 'nativecountry_ Guatemala', 'occupation_ Handlers-cleaners', 'nativecountry_ Portugal', 'occupation_ Machine-op-inspct', 'nativecountry_ Hong', 'nativecountry_ Iran', 'EdType_ HS-grad', 'nativecountry_ Thailand', 'JobType_ State-gov', 'nativecountry_ Poland', 'occupation_ Other-service', 'capitalloss', 'EdType_ 11th', 'EdType_ Preschool', 'occupation_ Prof-specialty', 'maritalstatus_ Married-spouse-absent']\n"
     ]
    }
   ],
   "source": [
    "# Separating the input names from data\n",
    "features=list(set(columns_list)-set(['SalStat']))\n",
    "print(features)"
   ]
  },
  {
   "cell_type": "code",
   "execution_count": 54,
   "id": "7b8a59ff",
   "metadata": {},
   "outputs": [
    {
     "name": "stdout",
     "output_type": "stream",
     "text": [
      "[0 0 1 ... 0 0 0]\n"
     ]
    }
   ],
   "source": [
    "y=new_data['SalStat'].values\n",
    "print(y)"
   ]
  },
  {
   "cell_type": "code",
   "execution_count": 55,
   "id": "c25da994",
   "metadata": {},
   "outputs": [
    {
     "name": "stdout",
     "output_type": "stream",
     "text": [
      "[[0 0 0 ... 0 0 0]\n",
      " [0 0 0 ... 0 0 0]\n",
      " [0 0 0 ... 0 1 0]\n",
      " ...\n",
      " [0 0 0 ... 0 0 0]\n",
      " [0 1 0 ... 0 0 0]\n",
      " [0 0 0 ... 0 1 0]]\n"
     ]
    }
   ],
   "source": [
    "x = new_data[features].values\n",
    "print(x)"
   ]
  },
  {
   "cell_type": "code",
   "execution_count": 56,
   "id": "a28eaf03",
   "metadata": {},
   "outputs": [
    {
     "name": "stdout",
     "output_type": "stream",
     "text": [
      "(30162, 94)\n",
      "(30162,)\n"
     ]
    }
   ],
   "source": [
    "print(x.shape)  # Check the shape of the feature matrix\n",
    "print(y.shape)  # Check the shape of the target variable\n"
   ]
  },
  {
   "cell_type": "code",
   "execution_count": 57,
   "id": "91ac4bbd",
   "metadata": {},
   "outputs": [
    {
     "name": "stderr",
     "output_type": "stream",
     "text": [
      "C:\\Users\\mohammed rafik m\\Downloads\\New folder\\anaconda\\lib\\site-packages\\sklearn\\linear_model\\_logistic.py:814: ConvergenceWarning: lbfgs failed to converge (status=1):\n",
      "STOP: TOTAL NO. of ITERATIONS REACHED LIMIT.\n",
      "\n",
      "Increase the number of iterations (max_iter) or scale the data as shown in:\n",
      "    https://scikit-learn.org/stable/modules/preprocessing.html\n",
      "Please also refer to the documentation for alternative solver options:\n",
      "    https://scikit-learn.org/stable/modules/linear_model.html#logistic-regression\n",
      "  n_iter_i = _check_optimize_result(\n",
      "C:\\Users\\mohammed rafik m\\Downloads\\New folder\\anaconda\\lib\\site-packages\\sklearn\\linear_model\\_logistic.py:814: ConvergenceWarning: lbfgs failed to converge (status=1):\n",
      "STOP: TOTAL NO. of ITERATIONS REACHED LIMIT.\n",
      "\n",
      "Increase the number of iterations (max_iter) or scale the data as shown in:\n",
      "    https://scikit-learn.org/stable/modules/preprocessing.html\n",
      "Please also refer to the documentation for alternative solver options:\n",
      "    https://scikit-learn.org/stable/modules/linear_model.html#logistic-regression\n",
      "  n_iter_i = _check_optimize_result(\n",
      "C:\\Users\\mohammed rafik m\\Downloads\\New folder\\anaconda\\lib\\site-packages\\sklearn\\linear_model\\_logistic.py:814: ConvergenceWarning: lbfgs failed to converge (status=1):\n",
      "STOP: TOTAL NO. of ITERATIONS REACHED LIMIT.\n",
      "\n",
      "Increase the number of iterations (max_iter) or scale the data as shown in:\n",
      "    https://scikit-learn.org/stable/modules/preprocessing.html\n",
      "Please also refer to the documentation for alternative solver options:\n",
      "    https://scikit-learn.org/stable/modules/linear_model.html#logistic-regression\n",
      "  n_iter_i = _check_optimize_result(\n",
      "C:\\Users\\mohammed rafik m\\Downloads\\New folder\\anaconda\\lib\\site-packages\\sklearn\\linear_model\\_logistic.py:814: ConvergenceWarning: lbfgs failed to converge (status=1):\n",
      "STOP: TOTAL NO. of ITERATIONS REACHED LIMIT.\n",
      "\n",
      "Increase the number of iterations (max_iter) or scale the data as shown in:\n",
      "    https://scikit-learn.org/stable/modules/preprocessing.html\n",
      "Please also refer to the documentation for alternative solver options:\n",
      "    https://scikit-learn.org/stable/modules/linear_model.html#logistic-regression\n",
      "  n_iter_i = _check_optimize_result(\n",
      "C:\\Users\\mohammed rafik m\\Downloads\\New folder\\anaconda\\lib\\site-packages\\sklearn\\linear_model\\_logistic.py:814: ConvergenceWarning: lbfgs failed to converge (status=1):\n",
      "STOP: TOTAL NO. of ITERATIONS REACHED LIMIT.\n",
      "\n",
      "Increase the number of iterations (max_iter) or scale the data as shown in:\n",
      "    https://scikit-learn.org/stable/modules/preprocessing.html\n",
      "Please also refer to the documentation for alternative solver options:\n",
      "    https://scikit-learn.org/stable/modules/linear_model.html#logistic-regression\n",
      "  n_iter_i = _check_optimize_result(\n",
      "C:\\Users\\mohammed rafik m\\Downloads\\New folder\\anaconda\\lib\\site-packages\\sklearn\\linear_model\\_logistic.py:814: ConvergenceWarning: lbfgs failed to converge (status=1):\n",
      "STOP: TOTAL NO. of ITERATIONS REACHED LIMIT.\n",
      "\n",
      "Increase the number of iterations (max_iter) or scale the data as shown in:\n",
      "    https://scikit-learn.org/stable/modules/preprocessing.html\n",
      "Please also refer to the documentation for alternative solver options:\n",
      "    https://scikit-learn.org/stable/modules/linear_model.html#logistic-regression\n",
      "  n_iter_i = _check_optimize_result(\n",
      "C:\\Users\\mohammed rafik m\\Downloads\\New folder\\anaconda\\lib\\site-packages\\sklearn\\linear_model\\_logistic.py:814: ConvergenceWarning: lbfgs failed to converge (status=1):\n",
      "STOP: TOTAL NO. of ITERATIONS REACHED LIMIT.\n",
      "\n",
      "Increase the number of iterations (max_iter) or scale the data as shown in:\n",
      "    https://scikit-learn.org/stable/modules/preprocessing.html\n",
      "Please also refer to the documentation for alternative solver options:\n",
      "    https://scikit-learn.org/stable/modules/linear_model.html#logistic-regression\n",
      "  n_iter_i = _check_optimize_result(\n",
      "C:\\Users\\mohammed rafik m\\Downloads\\New folder\\anaconda\\lib\\site-packages\\sklearn\\linear_model\\_logistic.py:814: ConvergenceWarning: lbfgs failed to converge (status=1):\n",
      "STOP: TOTAL NO. of ITERATIONS REACHED LIMIT.\n",
      "\n",
      "Increase the number of iterations (max_iter) or scale the data as shown in:\n",
      "    https://scikit-learn.org/stable/modules/preprocessing.html\n",
      "Please also refer to the documentation for alternative solver options:\n",
      "    https://scikit-learn.org/stable/modules/linear_model.html#logistic-regression\n",
      "  n_iter_i = _check_optimize_result(\n",
      "C:\\Users\\mohammed rafik m\\Downloads\\New folder\\anaconda\\lib\\site-packages\\sklearn\\linear_model\\_logistic.py:814: ConvergenceWarning: lbfgs failed to converge (status=1):\n",
      "STOP: TOTAL NO. of ITERATIONS REACHED LIMIT.\n",
      "\n",
      "Increase the number of iterations (max_iter) or scale the data as shown in:\n",
      "    https://scikit-learn.org/stable/modules/preprocessing.html\n",
      "Please also refer to the documentation for alternative solver options:\n",
      "    https://scikit-learn.org/stable/modules/linear_model.html#logistic-regression\n",
      "  n_iter_i = _check_optimize_result(\n",
      "C:\\Users\\mohammed rafik m\\Downloads\\New folder\\anaconda\\lib\\site-packages\\sklearn\\linear_model\\_logistic.py:814: ConvergenceWarning: lbfgs failed to converge (status=1):\n",
      "STOP: TOTAL NO. of ITERATIONS REACHED LIMIT.\n",
      "\n",
      "Increase the number of iterations (max_iter) or scale the data as shown in:\n",
      "    https://scikit-learn.org/stable/modules/preprocessing.html\n",
      "Please also refer to the documentation for alternative solver options:\n",
      "    https://scikit-learn.org/stable/modules/linear_model.html#logistic-regression\n",
      "  n_iter_i = _check_optimize_result(\n",
      "C:\\Users\\mohammed rafik m\\Downloads\\New folder\\anaconda\\lib\\site-packages\\sklearn\\linear_model\\_logistic.py:814: ConvergenceWarning: lbfgs failed to converge (status=1):\n",
      "STOP: TOTAL NO. of ITERATIONS REACHED LIMIT.\n",
      "\n",
      "Increase the number of iterations (max_iter) or scale the data as shown in:\n",
      "    https://scikit-learn.org/stable/modules/preprocessing.html\n",
      "Please also refer to the documentation for alternative solver options:\n",
      "    https://scikit-learn.org/stable/modules/linear_model.html#logistic-regression\n",
      "  n_iter_i = _check_optimize_result(\n",
      "C:\\Users\\mohammed rafik m\\Downloads\\New folder\\anaconda\\lib\\site-packages\\sklearn\\linear_model\\_logistic.py:814: ConvergenceWarning: lbfgs failed to converge (status=1):\n",
      "STOP: TOTAL NO. of ITERATIONS REACHED LIMIT.\n",
      "\n",
      "Increase the number of iterations (max_iter) or scale the data as shown in:\n",
      "    https://scikit-learn.org/stable/modules/preprocessing.html\n",
      "Please also refer to the documentation for alternative solver options:\n",
      "    https://scikit-learn.org/stable/modules/linear_model.html#logistic-regression\n",
      "  n_iter_i = _check_optimize_result(\n",
      "C:\\Users\\mohammed rafik m\\Downloads\\New folder\\anaconda\\lib\\site-packages\\sklearn\\linear_model\\_logistic.py:814: ConvergenceWarning: lbfgs failed to converge (status=1):\n",
      "STOP: TOTAL NO. of ITERATIONS REACHED LIMIT.\n",
      "\n",
      "Increase the number of iterations (max_iter) or scale the data as shown in:\n",
      "    https://scikit-learn.org/stable/modules/preprocessing.html\n",
      "Please also refer to the documentation for alternative solver options:\n",
      "    https://scikit-learn.org/stable/modules/linear_model.html#logistic-regression\n",
      "  n_iter_i = _check_optimize_result(\n",
      "C:\\Users\\mohammed rafik m\\Downloads\\New folder\\anaconda\\lib\\site-packages\\sklearn\\linear_model\\_logistic.py:814: ConvergenceWarning: lbfgs failed to converge (status=1):\n",
      "STOP: TOTAL NO. of ITERATIONS REACHED LIMIT.\n",
      "\n",
      "Increase the number of iterations (max_iter) or scale the data as shown in:\n",
      "    https://scikit-learn.org/stable/modules/preprocessing.html\n",
      "Please also refer to the documentation for alternative solver options:\n",
      "    https://scikit-learn.org/stable/modules/linear_model.html#logistic-regression\n",
      "  n_iter_i = _check_optimize_result(\n"
     ]
    },
    {
     "name": "stdout",
     "output_type": "stream",
     "text": [
      "Iteration 1 - Accuracy: 83.66%\n",
      "Iteration 2 - Accuracy: 84.22%\n",
      "Iteration 3 - Accuracy: 84.09%\n",
      "Iteration 4 - Accuracy: 84.09%\n",
      "Iteration 5 - Accuracy: 84.24%\n",
      "Iteration 6 - Accuracy: 84.64%\n",
      "Iteration 7 - Accuracy: 84.16%\n",
      "Iteration 8 - Accuracy: 84.85%\n",
      "Iteration 9 - Accuracy: 83.43%\n",
      "Iteration 10 - Accuracy: 83.91%\n",
      "Iteration 11 - Accuracy: 84.13%\n",
      "Iteration 12 - Accuracy: 83.99%\n",
      "Iteration 13 - Accuracy: 84.37%\n",
      "Iteration 14 - Accuracy: 84.22%\n",
      "Iteration 15 - Accuracy: 84.09%\n"
     ]
    },
    {
     "name": "stderr",
     "output_type": "stream",
     "text": [
      "C:\\Users\\mohammed rafik m\\Downloads\\New folder\\anaconda\\lib\\site-packages\\sklearn\\linear_model\\_logistic.py:814: ConvergenceWarning: lbfgs failed to converge (status=1):\n",
      "STOP: TOTAL NO. of ITERATIONS REACHED LIMIT.\n",
      "\n",
      "Increase the number of iterations (max_iter) or scale the data as shown in:\n",
      "    https://scikit-learn.org/stable/modules/preprocessing.html\n",
      "Please also refer to the documentation for alternative solver options:\n",
      "    https://scikit-learn.org/stable/modules/linear_model.html#logistic-regression\n",
      "  n_iter_i = _check_optimize_result(\n"
     ]
    }
   ],
   "source": [
    "from sklearn.linear_model import LogisticRegression\n",
    "from sklearn.metrics import accuracy_score\n",
    "\n",
    "# Make sure x and y are correctly defined with data\n",
    "\n",
    "# Initialize a logistic regression model\n",
    "model = LogisticRegression()\n",
    "\n",
    "# Initialize an empty list to store accuracy scores\n",
    "accuracy_scores = []\n",
    "\n",
    "# Perform logistic regression for 15 iterations\n",
    "for i in range(15):\n",
    "    # Split the data into training and testing sets (adjust sizes as needed)\n",
    "    train_x, test_x, train_y, test_y = train_test_split(x, y, test_size=0.3, random_state=i)\n",
    "    \n",
    "    # Train the model on the training data\n",
    "    model.fit(train_x, train_y)\n",
    "    \n",
    "    # Make predictions on the test data\n",
    "    predictions = model.predict(test_x)\n",
    "    \n",
    "    # Calculate accuracy and append to the list\n",
    "    accuracy = accuracy_score(test_y, predictions)\n",
    "    accuracy_scores.append(accuracy)\n",
    "\n",
    "# Print the accuracy scores for each iteration\n",
    "for i, score in enumerate(accuracy_scores):\n",
    "    print(f'Iteration {i + 1} - Accuracy: {score:.2%}')\n"
   ]
  },
  {
   "cell_type": "code",
   "execution_count": 58,
   "id": "14554417",
   "metadata": {},
   "outputs": [
    {
     "name": "stderr",
     "output_type": "stream",
     "text": [
      "C:\\Users\\mohammed rafik m\\Downloads\\New folder\\anaconda\\lib\\site-packages\\sklearn\\linear_model\\_logistic.py:814: ConvergenceWarning: lbfgs failed to converge (status=1):\n",
      "STOP: TOTAL NO. of ITERATIONS REACHED LIMIT.\n",
      "\n",
      "Increase the number of iterations (max_iter) or scale the data as shown in:\n",
      "    https://scikit-learn.org/stable/modules/preprocessing.html\n",
      "Please also refer to the documentation for alternative solver options:\n",
      "    https://scikit-learn.org/stable/modules/linear_model.html#logistic-regression\n",
      "  n_iter_i = _check_optimize_result(\n",
      "C:\\Users\\mohammed rafik m\\Downloads\\New folder\\anaconda\\lib\\site-packages\\sklearn\\linear_model\\_logistic.py:814: ConvergenceWarning: lbfgs failed to converge (status=1):\n",
      "STOP: TOTAL NO. of ITERATIONS REACHED LIMIT.\n",
      "\n",
      "Increase the number of iterations (max_iter) or scale the data as shown in:\n",
      "    https://scikit-learn.org/stable/modules/preprocessing.html\n",
      "Please also refer to the documentation for alternative solver options:\n",
      "    https://scikit-learn.org/stable/modules/linear_model.html#logistic-regression\n",
      "  n_iter_i = _check_optimize_result(\n",
      "C:\\Users\\mohammed rafik m\\Downloads\\New folder\\anaconda\\lib\\site-packages\\sklearn\\linear_model\\_logistic.py:814: ConvergenceWarning: lbfgs failed to converge (status=1):\n",
      "STOP: TOTAL NO. of ITERATIONS REACHED LIMIT.\n",
      "\n",
      "Increase the number of iterations (max_iter) or scale the data as shown in:\n",
      "    https://scikit-learn.org/stable/modules/preprocessing.html\n",
      "Please also refer to the documentation for alternative solver options:\n",
      "    https://scikit-learn.org/stable/modules/linear_model.html#logistic-regression\n",
      "  n_iter_i = _check_optimize_result(\n",
      "C:\\Users\\mohammed rafik m\\Downloads\\New folder\\anaconda\\lib\\site-packages\\sklearn\\linear_model\\_logistic.py:814: ConvergenceWarning: lbfgs failed to converge (status=1):\n",
      "STOP: TOTAL NO. of ITERATIONS REACHED LIMIT.\n",
      "\n",
      "Increase the number of iterations (max_iter) or scale the data as shown in:\n",
      "    https://scikit-learn.org/stable/modules/preprocessing.html\n",
      "Please also refer to the documentation for alternative solver options:\n",
      "    https://scikit-learn.org/stable/modules/linear_model.html#logistic-regression\n",
      "  n_iter_i = _check_optimize_result(\n",
      "C:\\Users\\mohammed rafik m\\Downloads\\New folder\\anaconda\\lib\\site-packages\\sklearn\\linear_model\\_logistic.py:814: ConvergenceWarning: lbfgs failed to converge (status=1):\n",
      "STOP: TOTAL NO. of ITERATIONS REACHED LIMIT.\n",
      "\n",
      "Increase the number of iterations (max_iter) or scale the data as shown in:\n",
      "    https://scikit-learn.org/stable/modules/preprocessing.html\n",
      "Please also refer to the documentation for alternative solver options:\n",
      "    https://scikit-learn.org/stable/modules/linear_model.html#logistic-regression\n",
      "  n_iter_i = _check_optimize_result(\n",
      "C:\\Users\\mohammed rafik m\\Downloads\\New folder\\anaconda\\lib\\site-packages\\sklearn\\linear_model\\_logistic.py:814: ConvergenceWarning: lbfgs failed to converge (status=1):\n",
      "STOP: TOTAL NO. of ITERATIONS REACHED LIMIT.\n",
      "\n",
      "Increase the number of iterations (max_iter) or scale the data as shown in:\n",
      "    https://scikit-learn.org/stable/modules/preprocessing.html\n",
      "Please also refer to the documentation for alternative solver options:\n",
      "    https://scikit-learn.org/stable/modules/linear_model.html#logistic-regression\n",
      "  n_iter_i = _check_optimize_result(\n",
      "C:\\Users\\mohammed rafik m\\Downloads\\New folder\\anaconda\\lib\\site-packages\\sklearn\\linear_model\\_logistic.py:814: ConvergenceWarning: lbfgs failed to converge (status=1):\n",
      "STOP: TOTAL NO. of ITERATIONS REACHED LIMIT.\n",
      "\n",
      "Increase the number of iterations (max_iter) or scale the data as shown in:\n",
      "    https://scikit-learn.org/stable/modules/preprocessing.html\n",
      "Please also refer to the documentation for alternative solver options:\n",
      "    https://scikit-learn.org/stable/modules/linear_model.html#logistic-regression\n",
      "  n_iter_i = _check_optimize_result(\n",
      "C:\\Users\\mohammed rafik m\\Downloads\\New folder\\anaconda\\lib\\site-packages\\sklearn\\linear_model\\_logistic.py:814: ConvergenceWarning: lbfgs failed to converge (status=1):\n",
      "STOP: TOTAL NO. of ITERATIONS REACHED LIMIT.\n",
      "\n",
      "Increase the number of iterations (max_iter) or scale the data as shown in:\n",
      "    https://scikit-learn.org/stable/modules/preprocessing.html\n",
      "Please also refer to the documentation for alternative solver options:\n",
      "    https://scikit-learn.org/stable/modules/linear_model.html#logistic-regression\n",
      "  n_iter_i = _check_optimize_result(\n",
      "C:\\Users\\mohammed rafik m\\Downloads\\New folder\\anaconda\\lib\\site-packages\\sklearn\\linear_model\\_logistic.py:814: ConvergenceWarning: lbfgs failed to converge (status=1):\n",
      "STOP: TOTAL NO. of ITERATIONS REACHED LIMIT.\n",
      "\n",
      "Increase the number of iterations (max_iter) or scale the data as shown in:\n",
      "    https://scikit-learn.org/stable/modules/preprocessing.html\n",
      "Please also refer to the documentation for alternative solver options:\n",
      "    https://scikit-learn.org/stable/modules/linear_model.html#logistic-regression\n",
      "  n_iter_i = _check_optimize_result(\n",
      "C:\\Users\\mohammed rafik m\\Downloads\\New folder\\anaconda\\lib\\site-packages\\sklearn\\linear_model\\_logistic.py:814: ConvergenceWarning: lbfgs failed to converge (status=1):\n",
      "STOP: TOTAL NO. of ITERATIONS REACHED LIMIT.\n",
      "\n",
      "Increase the number of iterations (max_iter) or scale the data as shown in:\n",
      "    https://scikit-learn.org/stable/modules/preprocessing.html\n",
      "Please also refer to the documentation for alternative solver options:\n",
      "    https://scikit-learn.org/stable/modules/linear_model.html#logistic-regression\n",
      "  n_iter_i = _check_optimize_result(\n",
      "C:\\Users\\mohammed rafik m\\Downloads\\New folder\\anaconda\\lib\\site-packages\\sklearn\\linear_model\\_logistic.py:814: ConvergenceWarning: lbfgs failed to converge (status=1):\n",
      "STOP: TOTAL NO. of ITERATIONS REACHED LIMIT.\n",
      "\n",
      "Increase the number of iterations (max_iter) or scale the data as shown in:\n",
      "    https://scikit-learn.org/stable/modules/preprocessing.html\n",
      "Please also refer to the documentation for alternative solver options:\n",
      "    https://scikit-learn.org/stable/modules/linear_model.html#logistic-regression\n",
      "  n_iter_i = _check_optimize_result(\n",
      "C:\\Users\\mohammed rafik m\\Downloads\\New folder\\anaconda\\lib\\site-packages\\sklearn\\linear_model\\_logistic.py:814: ConvergenceWarning: lbfgs failed to converge (status=1):\n",
      "STOP: TOTAL NO. of ITERATIONS REACHED LIMIT.\n",
      "\n",
      "Increase the number of iterations (max_iter) or scale the data as shown in:\n",
      "    https://scikit-learn.org/stable/modules/preprocessing.html\n",
      "Please also refer to the documentation for alternative solver options:\n",
      "    https://scikit-learn.org/stable/modules/linear_model.html#logistic-regression\n",
      "  n_iter_i = _check_optimize_result(\n",
      "C:\\Users\\mohammed rafik m\\Downloads\\New folder\\anaconda\\lib\\site-packages\\sklearn\\linear_model\\_logistic.py:814: ConvergenceWarning: lbfgs failed to converge (status=1):\n",
      "STOP: TOTAL NO. of ITERATIONS REACHED LIMIT.\n",
      "\n",
      "Increase the number of iterations (max_iter) or scale the data as shown in:\n",
      "    https://scikit-learn.org/stable/modules/preprocessing.html\n",
      "Please also refer to the documentation for alternative solver options:\n",
      "    https://scikit-learn.org/stable/modules/linear_model.html#logistic-regression\n",
      "  n_iter_i = _check_optimize_result(\n",
      "C:\\Users\\mohammed rafik m\\Downloads\\New folder\\anaconda\\lib\\site-packages\\sklearn\\linear_model\\_logistic.py:814: ConvergenceWarning: lbfgs failed to converge (status=1):\n",
      "STOP: TOTAL NO. of ITERATIONS REACHED LIMIT.\n",
      "\n",
      "Increase the number of iterations (max_iter) or scale the data as shown in:\n",
      "    https://scikit-learn.org/stable/modules/preprocessing.html\n",
      "Please also refer to the documentation for alternative solver options:\n",
      "    https://scikit-learn.org/stable/modules/linear_model.html#logistic-regression\n",
      "  n_iter_i = _check_optimize_result(\n",
      "C:\\Users\\mohammed rafik m\\Downloads\\New folder\\anaconda\\lib\\site-packages\\sklearn\\linear_model\\_logistic.py:814: ConvergenceWarning: lbfgs failed to converge (status=1):\n",
      "STOP: TOTAL NO. of ITERATIONS REACHED LIMIT.\n",
      "\n",
      "Increase the number of iterations (max_iter) or scale the data as shown in:\n",
      "    https://scikit-learn.org/stable/modules/preprocessing.html\n",
      "Please also refer to the documentation for alternative solver options:\n",
      "    https://scikit-learn.org/stable/modules/linear_model.html#logistic-regression\n",
      "  n_iter_i = _check_optimize_result(\n",
      "C:\\Users\\mohammed rafik m\\Downloads\\New folder\\anaconda\\lib\\site-packages\\sklearn\\linear_model\\_logistic.py:814: ConvergenceWarning: lbfgs failed to converge (status=1):\n",
      "STOP: TOTAL NO. of ITERATIONS REACHED LIMIT.\n",
      "\n",
      "Increase the number of iterations (max_iter) or scale the data as shown in:\n",
      "    https://scikit-learn.org/stable/modules/preprocessing.html\n",
      "Please also refer to the documentation for alternative solver options:\n",
      "    https://scikit-learn.org/stable/modules/linear_model.html#logistic-regression\n",
      "  n_iter_i = _check_optimize_result(\n",
      "C:\\Users\\mohammed rafik m\\Downloads\\New folder\\anaconda\\lib\\site-packages\\sklearn\\linear_model\\_logistic.py:814: ConvergenceWarning: lbfgs failed to converge (status=1):\n",
      "STOP: TOTAL NO. of ITERATIONS REACHED LIMIT.\n",
      "\n",
      "Increase the number of iterations (max_iter) or scale the data as shown in:\n",
      "    https://scikit-learn.org/stable/modules/preprocessing.html\n",
      "Please also refer to the documentation for alternative solver options:\n",
      "    https://scikit-learn.org/stable/modules/linear_model.html#logistic-regression\n",
      "  n_iter_i = _check_optimize_result(\n",
      "C:\\Users\\mohammed rafik m\\Downloads\\New folder\\anaconda\\lib\\site-packages\\sklearn\\linear_model\\_logistic.py:814: ConvergenceWarning: lbfgs failed to converge (status=1):\n",
      "STOP: TOTAL NO. of ITERATIONS REACHED LIMIT.\n",
      "\n",
      "Increase the number of iterations (max_iter) or scale the data as shown in:\n",
      "    https://scikit-learn.org/stable/modules/preprocessing.html\n",
      "Please also refer to the documentation for alternative solver options:\n",
      "    https://scikit-learn.org/stable/modules/linear_model.html#logistic-regression\n",
      "  n_iter_i = _check_optimize_result(\n",
      "C:\\Users\\mohammed rafik m\\Downloads\\New folder\\anaconda\\lib\\site-packages\\sklearn\\linear_model\\_logistic.py:814: ConvergenceWarning: lbfgs failed to converge (status=1):\n",
      "STOP: TOTAL NO. of ITERATIONS REACHED LIMIT.\n",
      "\n",
      "Increase the number of iterations (max_iter) or scale the data as shown in:\n",
      "    https://scikit-learn.org/stable/modules/preprocessing.html\n",
      "Please also refer to the documentation for alternative solver options:\n",
      "    https://scikit-learn.org/stable/modules/linear_model.html#logistic-regression\n",
      "  n_iter_i = _check_optimize_result(\n"
     ]
    },
    {
     "name": "stdout",
     "output_type": "stream",
     "text": [
      "Iteration 1 - Accuracy: 83.66% - Loss: 0.1634\n",
      "Iteration 2 - Accuracy: 84.22% - Loss: 0.1578\n",
      "Iteration 3 - Accuracy: 84.09% - Loss: 0.1591\n",
      "Iteration 4 - Accuracy: 84.09% - Loss: 0.1591\n",
      "Iteration 5 - Accuracy: 84.24% - Loss: 0.1576\n",
      "Iteration 6 - Accuracy: 84.64% - Loss: 0.1536\n",
      "Iteration 7 - Accuracy: 84.16% - Loss: 0.1584\n",
      "Iteration 8 - Accuracy: 84.85% - Loss: 0.1515\n",
      "Iteration 9 - Accuracy: 83.43% - Loss: 0.1657\n",
      "Iteration 10 - Accuracy: 83.91% - Loss: 0.1609\n",
      "Iteration 11 - Accuracy: 84.13% - Loss: 0.1587\n",
      "Iteration 12 - Accuracy: 83.99% - Loss: 0.1601\n",
      "Iteration 13 - Accuracy: 84.37% - Loss: 0.1563\n",
      "Iteration 14 - Accuracy: 84.22% - Loss: 0.1578\n",
      "Iteration 15 - Accuracy: 84.09% - Loss: 0.1591\n",
      "Iteration 16 - Accuracy: 83.90% - Loss: 0.1610\n",
      "Iteration 17 - Accuracy: 84.32% - Loss: 0.1568\n",
      "Iteration 18 - Accuracy: 83.82% - Loss: 0.1618\n",
      "Iteration 19 - Accuracy: 84.01% - Loss: 0.1599\n",
      "Iteration 20 - Accuracy: 84.15% - Loss: 0.1585\n"
     ]
    },
    {
     "name": "stderr",
     "output_type": "stream",
     "text": [
      "C:\\Users\\mohammed rafik m\\Downloads\\New folder\\anaconda\\lib\\site-packages\\sklearn\\linear_model\\_logistic.py:814: ConvergenceWarning: lbfgs failed to converge (status=1):\n",
      "STOP: TOTAL NO. of ITERATIONS REACHED LIMIT.\n",
      "\n",
      "Increase the number of iterations (max_iter) or scale the data as shown in:\n",
      "    https://scikit-learn.org/stable/modules/preprocessing.html\n",
      "Please also refer to the documentation for alternative solver options:\n",
      "    https://scikit-learn.org/stable/modules/linear_model.html#logistic-regression\n",
      "  n_iter_i = _check_optimize_result(\n"
     ]
    }
   ],
   "source": [
    "from sklearn.linear_model import LogisticRegression  # Import Logistic Regression\n",
    "from sklearn.metrics import accuracy_score\n",
    "from sklearn.model_selection import train_test_split\n",
    "\n",
    "# Make sure x and y are correctly defined with data\n",
    "\n",
    "# Initialize empty lists to store accuracy scores and losses\n",
    "accuracy_scores = []\n",
    "losses = []  # Define a list to store your custom loss values\n",
    "\n",
    "# Perform Logistic Regression classification for 20 iterations\n",
    "for i in range(20):\n",
    "    # Split the data into training and testing sets (adjust sizes as needed)\n",
    "    X_train, X_test, y_train, y_test = train_test_split(x, y, test_size=0.3, random_state=i)\n",
    "\n",
    "    # Initialize a Logistic Regression classifier\n",
    "    lr_model = LogisticRegression()\n",
    "\n",
    "    # Train the model on the training data\n",
    "    lr_model.fit(X_train, y_train)\n",
    "\n",
    "    # Make predictions on the test data\n",
    "    predictions = lr_model.predict(X_test)\n",
    "\n",
    "    # Calculate accuracy and append to the list\n",
    "    accuracy = accuracy_score(y_test, predictions)\n",
    "    accuracy_scores.append(accuracy)\n",
    "\n",
    "    # You need to define your custom loss function and calculate loss\n",
    "    # Here's an example using mean squared error as a loss function\n",
    "    # Replace this with your specific loss function\n",
    "    loss = ((y_test - predictions) ** 2).mean()\n",
    "    losses.append(loss)\n",
    "\n",
    "# Print the accuracy scores and losses for each iteration\n",
    "for i, (score, loss) in enumerate(zip(accuracy_scores, losses)):\n",
    "    print(f'Iteration {i + 1} - Accuracy: {score:.2%} - Loss: {loss:.4f}')\n"
   ]
  },
  {
   "cell_type": "code",
   "execution_count": 59,
   "id": "fa42044b",
   "metadata": {},
   "outputs": [],
   "source": [
    "logistic = LogisticRegression()"
   ]
  },
  {
   "cell_type": "code",
   "execution_count": 60,
   "id": "bfe31930",
   "metadata": {},
   "outputs": [
    {
     "name": "stderr",
     "output_type": "stream",
     "text": [
      "C:\\Users\\mohammed rafik m\\Downloads\\New folder\\anaconda\\lib\\site-packages\\sklearn\\linear_model\\_logistic.py:814: ConvergenceWarning: lbfgs failed to converge (status=1):\n",
      "STOP: TOTAL NO. of ITERATIONS REACHED LIMIT.\n",
      "\n",
      "Increase the number of iterations (max_iter) or scale the data as shown in:\n",
      "    https://scikit-learn.org/stable/modules/preprocessing.html\n",
      "Please also refer to the documentation for alternative solver options:\n",
      "    https://scikit-learn.org/stable/modules/linear_model.html#logistic-regression\n",
      "  n_iter_i = _check_optimize_result(\n"
     ]
    },
    {
     "data": {
      "text/plain": [
       "LogisticRegression()"
      ]
     },
     "execution_count": 60,
     "metadata": {},
     "output_type": "execute_result"
    }
   ],
   "source": [
    "logistic.fit(train_x,train_y)"
   ]
  },
  {
   "cell_type": "code",
   "execution_count": 61,
   "id": "ea9b6db6",
   "metadata": {},
   "outputs": [
    {
     "data": {
      "text/plain": [
       "array([[-5.39885617e-02, -6.28400727e-01, -6.80333863e-02,\n",
       "        -2.04276756e-01,  7.78023682e-01, -3.13475892e-01,\n",
       "         4.41632234e-03,  5.88888493e-01, -1.63074691e-03,\n",
       "         2.57445587e-01, -3.81120315e-01,  1.64146197e-01,\n",
       "        -6.98699690e-01, -4.00347146e-01, -1.17696850e-01,\n",
       "        -1.58454487e-01, -3.53487179e-01, -6.46523659e-02,\n",
       "        -3.99770501e-03, -1.74515438e-02, -8.03057752e-02,\n",
       "         3.50615446e-01, -1.94671933e-01, -4.30199019e-02,\n",
       "        -4.09160628e-01, -6.26635292e-01, -1.48079050e-01,\n",
       "        -1.37570787e+00,  2.02291709e-03, -1.35936128e-02,\n",
       "         3.28787339e-04, -1.71979571e-03, -7.20102240e-02,\n",
       "        -1.98723181e-01, -1.15416719e-02, -3.30817750e-02,\n",
       "        -2.88305280e-01, -8.29612837e-02,  4.02370865e-01,\n",
       "        -1.37702435e+00, -2.49300931e-02, -1.99701477e-02,\n",
       "        -1.45930367e-02,  4.76719877e-02,  1.12078765e+00,\n",
       "        -7.98314691e-01,  1.66696570e-03, -6.64869591e-01,\n",
       "         4.73580169e-01,  1.09455694e+00, -2.02982546e-02,\n",
       "        -9.75920507e-03, -2.99252456e-02,  7.26051527e-03,\n",
       "        -9.92218107e-02, -3.94308619e-01, -9.80055310e-01,\n",
       "        -3.62236686e-01, -1.88639643e-01, -3.03599965e-01,\n",
       "        -5.13103141e-02,  8.36938801e-03, -7.43207633e-03,\n",
       "        -1.32158205e-01, -1.02942460e+00, -2.77385005e-02,\n",
       "        -1.25251178e-02, -8.28798925e-02,  1.66652072e-02,\n",
       "        -8.19048016e-02,  2.47999616e-01,  6.57017776e-02,\n",
       "        -6.40050778e-04,  2.76490042e-01,  1.76793364e-02,\n",
       "        -1.53651467e-02, -8.22360889e-03, -4.75495635e-01,\n",
       "        -5.40606075e-02, -6.47996956e-01, -2.45078871e-02,\n",
       "        -6.13218794e-01, -5.87766116e-03, -1.41824621e-02,\n",
       "        -3.49271831e-01, -1.52022385e-02, -4.38617628e-01,\n",
       "        -3.35925503e-02, -1.15427319e+00,  6.56346925e-04,\n",
       "        -6.64721850e-01, -6.58686504e-02,  8.18559071e-01,\n",
       "        -1.51028748e-01]])"
      ]
     },
     "execution_count": 61,
     "metadata": {},
     "output_type": "execute_result"
    }
   ],
   "source": [
    "logistic.coef_"
   ]
  },
  {
   "cell_type": "code",
   "execution_count": 62,
   "id": "c0a78436",
   "metadata": {},
   "outputs": [
    {
     "data": {
      "text/plain": [
       "array([-1.91670813])"
      ]
     },
     "execution_count": 62,
     "metadata": {},
     "output_type": "execute_result"
    }
   ],
   "source": [
    "logistic.intercept_"
   ]
  },
  {
   "cell_type": "code",
   "execution_count": 63,
   "id": "9ae36307",
   "metadata": {},
   "outputs": [
    {
     "name": "stdout",
     "output_type": "stream",
     "text": [
      "[0 0 1 ... 0 0 0]\n"
     ]
    }
   ],
   "source": [
    "prediction = logistic.predict(test_x)\n",
    "print(prediction)"
   ]
  },
  {
   "cell_type": "code",
   "execution_count": 64,
   "id": "86cd215d",
   "metadata": {},
   "outputs": [
    {
     "name": "stdout",
     "output_type": "stream",
     "text": [
      "[[6230  548]\n",
      " [ 892 1379]]\n"
     ]
    }
   ],
   "source": [
    "confusion_matrix = confusion_matrix(test_y, prediction)\n",
    "print(confusion_matrix)"
   ]
  },
  {
   "cell_type": "code",
   "execution_count": 65,
   "id": "70018a74",
   "metadata": {},
   "outputs": [
    {
     "name": "stdout",
     "output_type": "stream",
     "text": [
      "0.8408663940766935\n"
     ]
    }
   ],
   "source": [
    "accuracy_score=accuracy_score(test_y, prediction)\n",
    "print(accuracy_score)"
   ]
  },
  {
   "cell_type": "code",
   "execution_count": 66,
   "id": "6b159841",
   "metadata": {},
   "outputs": [
    {
     "name": "stdout",
     "output_type": "stream",
     "text": [
      "Precision: 0.7156201349247535\n",
      "Recall: 0.6072214883311317\n",
      "F1-score: 0.6569795140543117\n"
     ]
    }
   ],
   "source": [
    "from sklearn.metrics import precision_score, recall_score, f1_score\n",
    "\n",
    "# Calculate precision\n",
    "precision = precision_score(test_y, prediction)\n",
    "\n",
    "# Calculate recall\n",
    "recall = recall_score(test_y, prediction)\n",
    "\n",
    "# Calculate F1-score\n",
    "f1 = f1_score(test_y, prediction)\n",
    "\n",
    "print(\"Precision:\", precision)\n",
    "print(\"Recall:\", recall)\n",
    "print(\"F1-score:\", f1)\n"
   ]
  },
  {
   "cell_type": "code",
   "execution_count": null,
   "id": "7b973827",
   "metadata": {},
   "outputs": [],
   "source": []
  },
  {
   "cell_type": "code",
   "execution_count": null,
   "id": "0fddb477",
   "metadata": {},
   "outputs": [],
   "source": []
  }
 ],
 "metadata": {
  "kernelspec": {
   "display_name": "Python 3 (ipykernel)",
   "language": "python",
   "name": "python3"
  },
  "language_info": {
   "codemirror_mode": {
    "name": "ipython",
    "version": 3
   },
   "file_extension": ".py",
   "mimetype": "text/x-python",
   "name": "python",
   "nbconvert_exporter": "python",
   "pygments_lexer": "ipython3",
   "version": "3.9.12"
  }
 },
 "nbformat": 4,
 "nbformat_minor": 5
}
