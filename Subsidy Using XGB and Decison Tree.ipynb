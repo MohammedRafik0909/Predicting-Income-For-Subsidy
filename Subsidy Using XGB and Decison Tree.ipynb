{
  "cells": [
    {
      "cell_type": "code",
      "execution_count": 1,
      "metadata": {
        "id": "a_M4kvv30du2"
      },
      "outputs": [],
      "source": [
        "# To work with dataframes\n",
        "import pandas as pd\n",
        "\n",
        "# To perform numerical operations\n",
        "import numpy as np\n",
        "\n",
        "# To visualize data\n",
        "import seaborn as sns\n",
        "\n",
        "# To partition the data\n",
        "from sklearn.model_selection import train_test_split\n",
        "\n",
        "# Importing the Random Forest Classifier\n",
        "from sklearn.ensemble import RandomForestClassifier\n",
        "\n",
        "# Importing performance metrics - accuracy score & confusion matrix\n",
        "from sklearn.metrics import accuracy_score, confusion_matrix"
      ]
    },
    {
      "cell_type": "code",
      "execution_count": 3,
      "metadata": {
        "colab": {
          "base_uri": "https://localhost:8080/",
          "height": 73
        },
        "id": "8L18l1jx1gCh",
        "outputId": "9c8b2386-8610-4511-a151-b4d77a508be3"
      },
      "outputs": [
        {
          "output_type": "display_data",
          "data": {
            "text/plain": [
              "<IPython.core.display.HTML object>"
            ],
            "text/html": [
              "\n",
              "     <input type=\"file\" id=\"files-79015c71-e291-4b67-9b40-119bff583847\" name=\"files[]\" multiple disabled\n",
              "        style=\"border:none\" />\n",
              "     <output id=\"result-79015c71-e291-4b67-9b40-119bff583847\">\n",
              "      Upload widget is only available when the cell has been executed in the\n",
              "      current browser session. Please rerun this cell to enable.\n",
              "      </output>\n",
              "      <script>// Copyright 2017 Google LLC\n",
              "//\n",
              "// Licensed under the Apache License, Version 2.0 (the \"License\");\n",
              "// you may not use this file except in compliance with the License.\n",
              "// You may obtain a copy of the License at\n",
              "//\n",
              "//      http://www.apache.org/licenses/LICENSE-2.0\n",
              "//\n",
              "// Unless required by applicable law or agreed to in writing, software\n",
              "// distributed under the License is distributed on an \"AS IS\" BASIS,\n",
              "// WITHOUT WARRANTIES OR CONDITIONS OF ANY KIND, either express or implied.\n",
              "// See the License for the specific language governing permissions and\n",
              "// limitations under the License.\n",
              "\n",
              "/**\n",
              " * @fileoverview Helpers for google.colab Python module.\n",
              " */\n",
              "(function(scope) {\n",
              "function span(text, styleAttributes = {}) {\n",
              "  const element = document.createElement('span');\n",
              "  element.textContent = text;\n",
              "  for (const key of Object.keys(styleAttributes)) {\n",
              "    element.style[key] = styleAttributes[key];\n",
              "  }\n",
              "  return element;\n",
              "}\n",
              "\n",
              "// Max number of bytes which will be uploaded at a time.\n",
              "const MAX_PAYLOAD_SIZE = 100 * 1024;\n",
              "\n",
              "function _uploadFiles(inputId, outputId) {\n",
              "  const steps = uploadFilesStep(inputId, outputId);\n",
              "  const outputElement = document.getElementById(outputId);\n",
              "  // Cache steps on the outputElement to make it available for the next call\n",
              "  // to uploadFilesContinue from Python.\n",
              "  outputElement.steps = steps;\n",
              "\n",
              "  return _uploadFilesContinue(outputId);\n",
              "}\n",
              "\n",
              "// This is roughly an async generator (not supported in the browser yet),\n",
              "// where there are multiple asynchronous steps and the Python side is going\n",
              "// to poll for completion of each step.\n",
              "// This uses a Promise to block the python side on completion of each step,\n",
              "// then passes the result of the previous step as the input to the next step.\n",
              "function _uploadFilesContinue(outputId) {\n",
              "  const outputElement = document.getElementById(outputId);\n",
              "  const steps = outputElement.steps;\n",
              "\n",
              "  const next = steps.next(outputElement.lastPromiseValue);\n",
              "  return Promise.resolve(next.value.promise).then((value) => {\n",
              "    // Cache the last promise value to make it available to the next\n",
              "    // step of the generator.\n",
              "    outputElement.lastPromiseValue = value;\n",
              "    return next.value.response;\n",
              "  });\n",
              "}\n",
              "\n",
              "/**\n",
              " * Generator function which is called between each async step of the upload\n",
              " * process.\n",
              " * @param {string} inputId Element ID of the input file picker element.\n",
              " * @param {string} outputId Element ID of the output display.\n",
              " * @return {!Iterable<!Object>} Iterable of next steps.\n",
              " */\n",
              "function* uploadFilesStep(inputId, outputId) {\n",
              "  const inputElement = document.getElementById(inputId);\n",
              "  inputElement.disabled = false;\n",
              "\n",
              "  const outputElement = document.getElementById(outputId);\n",
              "  outputElement.innerHTML = '';\n",
              "\n",
              "  const pickedPromise = new Promise((resolve) => {\n",
              "    inputElement.addEventListener('change', (e) => {\n",
              "      resolve(e.target.files);\n",
              "    });\n",
              "  });\n",
              "\n",
              "  const cancel = document.createElement('button');\n",
              "  inputElement.parentElement.appendChild(cancel);\n",
              "  cancel.textContent = 'Cancel upload';\n",
              "  const cancelPromise = new Promise((resolve) => {\n",
              "    cancel.onclick = () => {\n",
              "      resolve(null);\n",
              "    };\n",
              "  });\n",
              "\n",
              "  // Wait for the user to pick the files.\n",
              "  const files = yield {\n",
              "    promise: Promise.race([pickedPromise, cancelPromise]),\n",
              "    response: {\n",
              "      action: 'starting',\n",
              "    }\n",
              "  };\n",
              "\n",
              "  cancel.remove();\n",
              "\n",
              "  // Disable the input element since further picks are not allowed.\n",
              "  inputElement.disabled = true;\n",
              "\n",
              "  if (!files) {\n",
              "    return {\n",
              "      response: {\n",
              "        action: 'complete',\n",
              "      }\n",
              "    };\n",
              "  }\n",
              "\n",
              "  for (const file of files) {\n",
              "    const li = document.createElement('li');\n",
              "    li.append(span(file.name, {fontWeight: 'bold'}));\n",
              "    li.append(span(\n",
              "        `(${file.type || 'n/a'}) - ${file.size} bytes, ` +\n",
              "        `last modified: ${\n",
              "            file.lastModifiedDate ? file.lastModifiedDate.toLocaleDateString() :\n",
              "                                    'n/a'} - `));\n",
              "    const percent = span('0% done');\n",
              "    li.appendChild(percent);\n",
              "\n",
              "    outputElement.appendChild(li);\n",
              "\n",
              "    const fileDataPromise = new Promise((resolve) => {\n",
              "      const reader = new FileReader();\n",
              "      reader.onload = (e) => {\n",
              "        resolve(e.target.result);\n",
              "      };\n",
              "      reader.readAsArrayBuffer(file);\n",
              "    });\n",
              "    // Wait for the data to be ready.\n",
              "    let fileData = yield {\n",
              "      promise: fileDataPromise,\n",
              "      response: {\n",
              "        action: 'continue',\n",
              "      }\n",
              "    };\n",
              "\n",
              "    // Use a chunked sending to avoid message size limits. See b/62115660.\n",
              "    let position = 0;\n",
              "    do {\n",
              "      const length = Math.min(fileData.byteLength - position, MAX_PAYLOAD_SIZE);\n",
              "      const chunk = new Uint8Array(fileData, position, length);\n",
              "      position += length;\n",
              "\n",
              "      const base64 = btoa(String.fromCharCode.apply(null, chunk));\n",
              "      yield {\n",
              "        response: {\n",
              "          action: 'append',\n",
              "          file: file.name,\n",
              "          data: base64,\n",
              "        },\n",
              "      };\n",
              "\n",
              "      let percentDone = fileData.byteLength === 0 ?\n",
              "          100 :\n",
              "          Math.round((position / fileData.byteLength) * 100);\n",
              "      percent.textContent = `${percentDone}% done`;\n",
              "\n",
              "    } while (position < fileData.byteLength);\n",
              "  }\n",
              "\n",
              "  // All done.\n",
              "  yield {\n",
              "    response: {\n",
              "      action: 'complete',\n",
              "    }\n",
              "  };\n",
              "}\n",
              "\n",
              "scope.google = scope.google || {};\n",
              "scope.google.colab = scope.google.colab || {};\n",
              "scope.google.colab._files = {\n",
              "  _uploadFiles,\n",
              "  _uploadFilesContinue,\n",
              "};\n",
              "})(self);\n",
              "</script> "
            ]
          },
          "metadata": {}
        },
        {
          "output_type": "stream",
          "name": "stdout",
          "text": [
            "Saving income(1) (2).csv to income(1) (2).csv\n"
          ]
        }
      ],
      "source": [
        "from google.colab import files\n",
        "uploaded = files.upload()\n"
      ]
    },
    {
      "cell_type": "code",
      "execution_count": 4,
      "metadata": {
        "id": "pOPZjAMp7mvo"
      },
      "outputs": [],
      "source": [
        "import pandas as pd\n",
        "\n",
        "# Replace 'filename.csv' with the actual file name\n",
        "data = pd.read_csv('income(1) (2).csv', na_values=[\" ?\"])\n"
      ]
    },
    {
      "cell_type": "code",
      "execution_count": 5,
      "metadata": {
        "colab": {
          "base_uri": "https://localhost:8080/"
        },
        "id": "A5vHOCj98NKr",
        "outputId": "693c4b8c-70fa-4170-ac91-faa20d0ee556"
      },
      "outputs": [
        {
          "output_type": "stream",
          "name": "stdout",
          "text": [
            "<bound method NDFrame.head of        age       JobType         EdType        maritalstatus  \\\n",
            "0       45       Private        HS-grad             Divorced   \n",
            "1       24   Federal-gov        HS-grad        Never-married   \n",
            "2       44       Private   Some-college   Married-civ-spouse   \n",
            "3       27       Private            9th        Never-married   \n",
            "4       20       Private   Some-college        Never-married   \n",
            "...    ...           ...            ...                  ...   \n",
            "31973   34     Local-gov        HS-grad        Never-married   \n",
            "31974   34     Local-gov   Some-college        Never-married   \n",
            "31975   23       Private   Some-college   Married-civ-spouse   \n",
            "31976   42     Local-gov   Some-college   Married-civ-spouse   \n",
            "31977   29       Private      Bachelors        Never-married   \n",
            "\n",
            "             occupation     relationship    race   gender  capitalgain  \\\n",
            "0          Adm-clerical    Not-in-family   White   Female            0   \n",
            "1          Armed-Forces        Own-child   White     Male            0   \n",
            "2        Prof-specialty          Husband   White     Male            0   \n",
            "3          Craft-repair   Other-relative   White     Male            0   \n",
            "4                 Sales    Not-in-family   White     Male            0   \n",
            "...                 ...              ...     ...      ...          ...   \n",
            "31973   Farming-fishing    Not-in-family   Black     Male          594   \n",
            "31974   Protective-serv    Not-in-family   White   Female            0   \n",
            "31975      Adm-clerical          Husband   White     Male            0   \n",
            "31976      Adm-clerical             Wife   White   Female            0   \n",
            "31977    Prof-specialty    Not-in-family   White     Male            0   \n",
            "\n",
            "       capitalloss  hoursperweek   nativecountry  \\\n",
            "0                0            28   United-States   \n",
            "1                0            40   United-States   \n",
            "2                0            40   United-States   \n",
            "3                0            40          Mexico   \n",
            "4                0            35   United-States   \n",
            "...            ...           ...             ...   \n",
            "31973            0            60   United-States   \n",
            "31974            0            40   United-States   \n",
            "31975            0            40   United-States   \n",
            "31976            0            40   United-States   \n",
            "31977            0            40   United-States   \n",
            "\n",
            "                             SalStat  \n",
            "0       less than or equal to 50,000  \n",
            "1       less than or equal to 50,000  \n",
            "2                greater than 50,000  \n",
            "3       less than or equal to 50,000  \n",
            "4       less than or equal to 50,000  \n",
            "...                              ...  \n",
            "31973   less than or equal to 50,000  \n",
            "31974   less than or equal to 50,000  \n",
            "31975   less than or equal to 50,000  \n",
            "31976   less than or equal to 50,000  \n",
            "31977   less than or equal to 50,000  \n",
            "\n",
            "[31978 rows x 13 columns]>\n"
          ]
        }
      ],
      "source": [
        "print(data.head)"
      ]
    },
    {
      "cell_type": "code",
      "execution_count": 6,
      "metadata": {
        "id": "nxeT_pDF8UOQ"
      },
      "outputs": [],
      "source": [
        "# Data pre-processing\n",
        "# =============================================================================\n",
        "\n",
        "data.isnull().sum()\n",
        "\n",
        "missing = data[data.isnull().any(axis=1)]\n",
        "# axis=1 => to consider at least one column value is missing in a row"
      ]
    },
    {
      "cell_type": "code",
      "execution_count": 7,
      "metadata": {
        "id": "gsB6XJUY8lIj"
      },
      "outputs": [],
      "source": [
        "data2 = data.dropna(axis=0)"
      ]
    },
    {
      "cell_type": "code",
      "execution_count": 8,
      "metadata": {
        "colab": {
          "base_uri": "https://localhost:8080/"
        },
        "id": "uhmtJFoQ8nbe",
        "outputId": "3908649c-bdcf-4426-a55f-7aaf96a1b9c8"
      },
      "outputs": [
        {
          "output_type": "stream",
          "name": "stdout",
          "text": [
            "0        0\n",
            "1        0\n",
            "2        1\n",
            "3        0\n",
            "4        0\n",
            "        ..\n",
            "31973    0\n",
            "31974    0\n",
            "31975    0\n",
            "31976    0\n",
            "31977    0\n",
            "Name: SalStat, Length: 30162, dtype: int64\n"
          ]
        },
        {
          "output_type": "stream",
          "name": "stderr",
          "text": [
            "<ipython-input-8-84a92c8cf0e8>:2: SettingWithCopyWarning: \n",
            "A value is trying to be set on a copy of a slice from a DataFrame.\n",
            "Try using .loc[row_indexer,col_indexer] = value instead\n",
            "\n",
            "See the caveats in the documentation: https://pandas.pydata.org/pandas-docs/stable/user_guide/indexing.html#returning-a-view-versus-a-copy\n",
            "  data2['SalStat'] = data2['SalStat'].map({' less than or equal to 50,000': 0, ' greater than 50,000': 1})\n"
          ]
        }
      ],
      "source": [
        "\n",
        "# Reindexing the salary status names to 0,1\n",
        "data2['SalStat'] = data2['SalStat'].map({' less than or equal to 50,000': 0, ' greater than 50,000': 1})\n",
        "print(data2['SalStat'])"
      ]
    },
    {
      "cell_type": "code",
      "execution_count": 9,
      "metadata": {
        "id": "e7AFOroa8p5r"
      },
      "outputs": [],
      "source": [
        "new_data = pd.get_dummies(data2, drop_first=True)"
      ]
    },
    {
      "cell_type": "code",
      "execution_count": 10,
      "metadata": {
        "colab": {
          "base_uri": "https://localhost:8080/"
        },
        "id": "2brKDNZp8sIA",
        "outputId": "10eac82a-4d50-47cb-d529-c36621fa08b1"
      },
      "outputs": [
        {
          "output_type": "stream",
          "name": "stdout",
          "text": [
            "['age', 'capitalgain', 'capitalloss', 'hoursperweek', 'SalStat', 'JobType_ Local-gov', 'JobType_ Private', 'JobType_ Self-emp-inc', 'JobType_ Self-emp-not-inc', 'JobType_ State-gov', 'JobType_ Without-pay', 'EdType_ 11th', 'EdType_ 12th', 'EdType_ 1st-4th', 'EdType_ 5th-6th', 'EdType_ 7th-8th', 'EdType_ 9th', 'EdType_ Assoc-acdm', 'EdType_ Assoc-voc', 'EdType_ Bachelors', 'EdType_ Doctorate', 'EdType_ HS-grad', 'EdType_ Masters', 'EdType_ Preschool', 'EdType_ Prof-school', 'EdType_ Some-college', 'maritalstatus_ Married-AF-spouse', 'maritalstatus_ Married-civ-spouse', 'maritalstatus_ Married-spouse-absent', 'maritalstatus_ Never-married', 'maritalstatus_ Separated', 'maritalstatus_ Widowed', 'occupation_ Armed-Forces', 'occupation_ Craft-repair', 'occupation_ Exec-managerial', 'occupation_ Farming-fishing', 'occupation_ Handlers-cleaners', 'occupation_ Machine-op-inspct', 'occupation_ Other-service', 'occupation_ Priv-house-serv', 'occupation_ Prof-specialty', 'occupation_ Protective-serv', 'occupation_ Sales', 'occupation_ Tech-support', 'occupation_ Transport-moving', 'relationship_ Not-in-family', 'relationship_ Other-relative', 'relationship_ Own-child', 'relationship_ Unmarried', 'relationship_ Wife', 'race_ Asian-Pac-Islander', 'race_ Black', 'race_ Other', 'race_ White', 'gender_ Male', 'nativecountry_ Canada', 'nativecountry_ China', 'nativecountry_ Columbia', 'nativecountry_ Cuba', 'nativecountry_ Dominican-Republic', 'nativecountry_ Ecuador', 'nativecountry_ El-Salvador', 'nativecountry_ England', 'nativecountry_ France', 'nativecountry_ Germany', 'nativecountry_ Greece', 'nativecountry_ Guatemala', 'nativecountry_ Haiti', 'nativecountry_ Holand-Netherlands', 'nativecountry_ Honduras', 'nativecountry_ Hong', 'nativecountry_ Hungary', 'nativecountry_ India', 'nativecountry_ Iran', 'nativecountry_ Ireland', 'nativecountry_ Italy', 'nativecountry_ Jamaica', 'nativecountry_ Japan', 'nativecountry_ Laos', 'nativecountry_ Mexico', 'nativecountry_ Nicaragua', 'nativecountry_ Outlying-US(Guam-USVI-etc)', 'nativecountry_ Peru', 'nativecountry_ Philippines', 'nativecountry_ Poland', 'nativecountry_ Portugal', 'nativecountry_ Puerto-Rico', 'nativecountry_ Scotland', 'nativecountry_ South', 'nativecountry_ Taiwan', 'nativecountry_ Thailand', 'nativecountry_ Trinadad&Tobago', 'nativecountry_ United-States', 'nativecountry_ Vietnam', 'nativecountry_ Yugoslavia']\n"
          ]
        }
      ],
      "source": [
        "# Storing the column names\n",
        "columns_list = list(new_data.columns)\n",
        "print(columns_list)"
      ]
    },
    {
      "cell_type": "code",
      "execution_count": 11,
      "metadata": {
        "colab": {
          "base_uri": "https://localhost:8080/"
        },
        "id": "ls0gDfAS8uCz",
        "outputId": "6293b6b8-4f95-4faf-ecfa-6ef79bd87044"
      },
      "outputs": [
        {
          "output_type": "stream",
          "name": "stdout",
          "text": [
            "['occupation_ Other-service', 'nativecountry_ Jamaica', 'EdType_ Doctorate', 'JobType_ Private', 'relationship_ Own-child', 'relationship_ Other-relative', 'nativecountry_ Trinadad&Tobago', 'nativecountry_ Laos', 'maritalstatus_ Married-civ-spouse', 'nativecountry_ Hong', 'nativecountry_ China', 'EdType_ Prof-school', 'nativecountry_ Philippines', 'capitalloss', 'age', 'occupation_ Protective-serv', 'occupation_ Handlers-cleaners', 'nativecountry_ Dominican-Republic', 'race_ Black', 'occupation_ Craft-repair', 'EdType_ Preschool', 'JobType_ State-gov', 'nativecountry_ United-States', 'capitalgain', 'nativecountry_ Scotland', 'JobType_ Self-emp-not-inc', 'EdType_ 1st-4th', 'nativecountry_ Ecuador', 'maritalstatus_ Never-married', 'EdType_ 7th-8th', 'race_ Asian-Pac-Islander', 'occupation_ Tech-support', 'relationship_ Unmarried', 'race_ White', 'nativecountry_ Guatemala', 'EdType_ 11th', 'nativecountry_ Haiti', 'maritalstatus_ Widowed', 'occupation_ Exec-managerial', 'nativecountry_ India', 'nativecountry_ Taiwan', 'EdType_ 9th', 'nativecountry_ Japan', 'nativecountry_ South', 'hoursperweek', 'nativecountry_ Puerto-Rico', 'relationship_ Not-in-family', 'EdType_ Assoc-voc', 'JobType_ Without-pay', 'nativecountry_ Nicaragua', 'nativecountry_ Hungary', 'nativecountry_ Outlying-US(Guam-USVI-etc)', 'EdType_ Bachelors', 'relationship_ Wife', 'maritalstatus_ Separated', 'nativecountry_ El-Salvador', 'JobType_ Self-emp-inc', 'nativecountry_ Portugal', 'EdType_ 5th-6th', 'EdType_ Some-college', 'occupation_ Armed-Forces', 'nativecountry_ Ireland', 'EdType_ Masters', 'nativecountry_ Germany', 'nativecountry_ Columbia', 'EdType_ Assoc-acdm', 'gender_ Male', 'nativecountry_ Peru', 'nativecountry_ Thailand', 'nativecountry_ England', 'nativecountry_ Holand-Netherlands', 'occupation_ Sales', 'occupation_ Priv-house-serv', 'nativecountry_ Poland', 'nativecountry_ Yugoslavia', 'nativecountry_ Iran', 'maritalstatus_ Married-AF-spouse', 'race_ Other', 'nativecountry_ Greece', 'nativecountry_ Honduras', 'nativecountry_ Vietnam', 'nativecountry_ France', 'JobType_ Local-gov', 'occupation_ Machine-op-inspct', 'EdType_ 12th', 'nativecountry_ Canada', 'nativecountry_ Mexico', 'occupation_ Transport-moving', 'nativecountry_ Cuba', 'occupation_ Prof-specialty', 'maritalstatus_ Married-spouse-absent', 'nativecountry_ Italy', 'EdType_ HS-grad', 'occupation_ Farming-fishing']\n"
          ]
        }
      ],
      "source": [
        "# Separating the input names from data\n",
        "features = list(set(columns_list) - set(['SalStat']))\n",
        "print(features)"
      ]
    },
    {
      "cell_type": "code",
      "execution_count": 12,
      "metadata": {
        "colab": {
          "base_uri": "https://localhost:8080/"
        },
        "id": "22G9Zspn8wkq",
        "outputId": "ab1877bb-cde8-4808-a788-058dc12014da"
      },
      "outputs": [
        {
          "output_type": "stream",
          "name": "stdout",
          "text": [
            "[0 0 1 ... 0 0 0]\n"
          ]
        }
      ],
      "source": [
        "y = new_data['SalStat'].values\n",
        "print(y)"
      ]
    },
    {
      "cell_type": "code",
      "execution_count": 13,
      "metadata": {
        "colab": {
          "base_uri": "https://localhost:8080/"
        },
        "id": "aD_7T_6Y8zGN",
        "outputId": "15480702-71e1-4a29-b0f5-8cd1d8643f47"
      },
      "outputs": [
        {
          "output_type": "stream",
          "name": "stdout",
          "text": [
            "[[0 0 0 ... 0 1 0]\n",
            " [0 0 0 ... 0 1 0]\n",
            " [0 0 0 ... 0 0 0]\n",
            " ...\n",
            " [0 0 0 ... 0 0 0]\n",
            " [0 0 0 ... 0 0 0]\n",
            " [0 0 0 ... 0 0 0]]\n"
          ]
        }
      ],
      "source": [
        "x = new_data[features].values\n",
        "print(x)\n"
      ]
    },
    {
      "cell_type": "code",
      "execution_count": 14,
      "metadata": {
        "id": "kPA9ZDtO81Qp"
      },
      "outputs": [],
      "source": [
        "# Splitting the data into train and test\n",
        "train_x, test_x, train_y, test_y = train_test_split(x, y, test_size=0.3, random_state=0)\n"
      ]
    },
    {
      "cell_type": "code",
      "execution_count": 15,
      "metadata": {
        "colab": {
          "base_uri": "https://localhost:8080/"
        },
        "id": "aKtSiWyR85Hg",
        "outputId": "6958908e-f4c0-488b-b1c8-103299228be5"
      },
      "outputs": [
        {
          "output_type": "stream",
          "name": "stdout",
          "text": [
            "XGBoost Accuracy: 0.8658415294507681\n"
          ]
        }
      ],
      "source": [
        "import xgboost as xgb\n",
        "\n",
        "# Create an XGBoost classifier\n",
        "xgb_classifier = xgb.XGBClassifier(n_estimators=100, max_depth=6, learning_rate=0.1, random_state=0)\n",
        "\n",
        "# Fit the model to the training data\n",
        "xgb_classifier.fit(train_x, train_y)\n",
        "\n",
        "# Make predictions on the test data\n",
        "xgb_prediction = xgb_classifier.predict(test_x)\n",
        "\n",
        "# Calculate the accuracy score\n",
        "xgb_accuracy = accuracy_score(test_y, xgb_prediction)\n",
        "\n",
        "print(\"XGBoost Accuracy:\", xgb_accuracy)\n"
      ]
    },
    {
      "cell_type": "code",
      "execution_count": 16,
      "metadata": {
        "colab": {
          "base_uri": "https://localhost:8080/"
        },
        "id": "B-qAgke6IZ9-",
        "outputId": "6b8286c9-66cd-4be8-8789-b6035acfba2f"
      },
      "outputs": [
        {
          "output_type": "stream",
          "name": "stdout",
          "text": [
            "Iteration 1 - Accuracy: 86.89%\n",
            "Iteration 2 - Accuracy: 86.68%\n",
            "Iteration 3 - Accuracy: 87.06%\n",
            "Iteration 4 - Accuracy: 87.02%\n",
            "Iteration 5 - Accuracy: 86.94%\n",
            "Iteration 6 - Accuracy: 86.83%\n",
            "Iteration 7 - Accuracy: 87.00%\n",
            "Iteration 8 - Accuracy: 87.23%\n",
            "Iteration 9 - Accuracy: 86.26%\n",
            "Iteration 10 - Accuracy: 86.64%\n",
            "Iteration 11 - Accuracy: 86.83%\n",
            "Iteration 12 - Accuracy: 86.56%\n",
            "Iteration 13 - Accuracy: 86.77%\n",
            "Iteration 14 - Accuracy: 86.66%\n",
            "Iteration 15 - Accuracy: 86.69%\n",
            "Iteration 16 - Accuracy: 86.35%\n",
            "Iteration 17 - Accuracy: 86.86%\n",
            "Iteration 18 - Accuracy: 85.83%\n",
            "Iteration 19 - Accuracy: 86.30%\n",
            "Iteration 20 - Accuracy: 86.53%\n"
          ]
        }
      ],
      "source": [
        "import xgboost as xgb\n",
        "from sklearn.metrics import accuracy_score\n",
        "from sklearn.model_selection import train_test_split\n",
        "\n",
        "# Make sure x and y are correctly defined with data\n",
        "\n",
        "# Initialize an empty list to store accuracy scores\n",
        "accuracy_scores = []\n",
        "\n",
        "# Perform XGBoost classification for 15 iterations\n",
        "for i in range(20):\n",
        "    # Split the data into training and testing sets (adjust sizes as needed)\n",
        "    X_train, X_test, y_train, y_test = train_test_split(x, y, test_size=0.3, random_state=i)\n",
        "\n",
        "    # Initialize an XGBoost classifier\n",
        "    xgb_model = xgb.XGBClassifier()\n",
        "\n",
        "    # Train the model on the training data\n",
        "    xgb_model.fit(X_train, y_train)\n",
        "\n",
        "    # Make predictions on the test data\n",
        "    predictions = xgb_model.predict(X_test)\n",
        "\n",
        "    # Calculate accuracy and append to the list\n",
        "    accuracy = accuracy_score(y_test, predictions)\n",
        "    accuracy_scores.append(accuracy)\n",
        "\n",
        "# Print the accuracy scores for each iteration\n",
        "for i, score in enumerate(accuracy_scores):\n",
        "    print(f'Iteration {i + 1} - Accuracy: {score:.2%}')\n"
      ]
    },
    {
      "cell_type": "code",
      "execution_count": 17,
      "metadata": {
        "colab": {
          "base_uri": "https://localhost:8080/"
        },
        "id": "-Xov0-n7I0BR",
        "outputId": "e8cd3c78-6bf2-40b1-e0d6-71c284e6b860"
      },
      "outputs": [
        {
          "output_type": "stream",
          "name": "stdout",
          "text": [
            "Iteration 1 - Accuracy: 86.89% - Loss: 0.1311\n",
            "Iteration 2 - Accuracy: 86.68% - Loss: 0.1332\n",
            "Iteration 3 - Accuracy: 87.06% - Loss: 0.1294\n",
            "Iteration 4 - Accuracy: 87.02% - Loss: 0.1298\n",
            "Iteration 5 - Accuracy: 86.94% - Loss: 0.1306\n",
            "Iteration 6 - Accuracy: 86.83% - Loss: 0.1317\n",
            "Iteration 7 - Accuracy: 87.00% - Loss: 0.1300\n",
            "Iteration 8 - Accuracy: 87.23% - Loss: 0.1277\n",
            "Iteration 9 - Accuracy: 86.26% - Loss: 0.1374\n",
            "Iteration 10 - Accuracy: 86.64% - Loss: 0.1336\n",
            "Iteration 11 - Accuracy: 86.83% - Loss: 0.1317\n",
            "Iteration 12 - Accuracy: 86.56% - Loss: 0.1344\n",
            "Iteration 13 - Accuracy: 86.77% - Loss: 0.1323\n",
            "Iteration 14 - Accuracy: 86.66% - Loss: 0.1334\n",
            "Iteration 15 - Accuracy: 86.69% - Loss: 0.1331\n",
            "Iteration 16 - Accuracy: 86.35% - Loss: 0.1365\n",
            "Iteration 17 - Accuracy: 86.86% - Loss: 0.1314\n",
            "Iteration 18 - Accuracy: 85.83% - Loss: 0.1417\n",
            "Iteration 19 - Accuracy: 86.30% - Loss: 0.1370\n",
            "Iteration 20 - Accuracy: 86.53% - Loss: 0.1347\n"
          ]
        }
      ],
      "source": [
        "import xgboost as xgb\n",
        "from sklearn.metrics import accuracy_score\n",
        "from sklearn.model_selection import train_test_split\n",
        "import numpy as np\n",
        "\n",
        "# Make sure x and y are correctly defined with data\n",
        "\n",
        "# Initialize empty lists to store accuracy scores and losses\n",
        "accuracy_scores = []\n",
        "losses = []  # Define a list to store your custom loss values\n",
        "\n",
        "# Perform XGBoost classification for 20 iterations\n",
        "for i in range(20):\n",
        "    # Split the data into training and testing sets (adjust sizes as needed)\n",
        "    X_train, X_test, y_train, y_test = train_test_split(x, y, test_size=0.3, random_state=i)\n",
        "\n",
        "    # Initialize an XGBoost classifier\n",
        "    xgb_model = xgb.XGBClassifier()\n",
        "\n",
        "    # Train the model on the training data\n",
        "    xgb_model.fit(X_train, y_train)\n",
        "\n",
        "    # Make predictions on the test data\n",
        "    predictions = xgb_model.predict(X_test)\n",
        "\n",
        "    # Calculate accuracy and append to the list\n",
        "    accuracy = accuracy_score(y_test, predictions)\n",
        "    accuracy_scores.append(accuracy)\n",
        "\n",
        "    # Define your custom loss function and calculate loss\n",
        "    # Here's an example using mean squared error as a loss function\n",
        "    # Replace this with your specific loss function\n",
        "    loss = ((y_test - predictions) ** 2).mean()\n",
        "    losses.append(loss)\n",
        "\n",
        "# Print the accuracy scores and losses for each iteration\n",
        "for i, (score, loss) in enumerate(zip(accuracy_scores, losses)):\n",
        "    print(f'Iteration {i + 1} - Accuracy: {score:.2%} - Loss: {loss:.4f}')\n"
      ]
    },
    {
      "cell_type": "code",
      "execution_count": 18,
      "metadata": {
        "colab": {
          "base_uri": "https://localhost:8080/"
        },
        "id": "_Jov-65zu608",
        "outputId": "76a59b95-22aa-4c5d-8a46-225fbae55412"
      },
      "outputs": [
        {
          "output_type": "stream",
          "name": "stdout",
          "text": [
            "Decision Tree Accuracy: 0.8085976350978009\n"
          ]
        }
      ],
      "source": [
        "from sklearn.tree import DecisionTreeClassifier\n",
        "from sklearn.metrics import accuracy_score\n",
        "\n",
        "# Create a Decision Tree classifier\n",
        "dt_classifier = DecisionTreeClassifier(random_state=0)  # You can adjust hyperparameters as needed\n",
        "\n",
        "# Fit the model to the training data\n",
        "dt_classifier.fit(train_x, train_y)\n",
        "\n",
        "# Make predictions on the test data\n",
        "dt_prediction = dt_classifier.predict(test_x)\n",
        "\n",
        "# Calculate the accuracy score\n",
        "dt_accuracy = accuracy_score(test_y, dt_prediction)\n",
        "\n",
        "print(\"Decision Tree Accuracy:\", dt_accuracy)\n"
      ]
    },
    {
      "cell_type": "code",
      "execution_count": 19,
      "metadata": {
        "id": "Hmku39aCBSW-",
        "colab": {
          "base_uri": "https://localhost:8080/"
        },
        "outputId": "b1696834-7447-49f3-fe01-7009b4b77eed"
      },
      "outputs": [
        {
          "output_type": "stream",
          "name": "stdout",
          "text": [
            "Iteration 1 - Accuracy: 81.14% - Loss: 0.1886\n",
            "Iteration 2 - Accuracy: 81.30% - Loss: 0.1870\n",
            "Iteration 3 - Accuracy: 81.64% - Loss: 0.1836\n",
            "Iteration 4 - Accuracy: 81.52% - Loss: 0.1848\n",
            "Iteration 5 - Accuracy: 80.76% - Loss: 0.1924\n",
            "Iteration 6 - Accuracy: 81.06% - Loss: 0.1894\n",
            "Iteration 7 - Accuracy: 81.29% - Loss: 0.1871\n",
            "Iteration 8 - Accuracy: 81.61% - Loss: 0.1839\n",
            "Iteration 9 - Accuracy: 80.17% - Loss: 0.1983\n",
            "Iteration 10 - Accuracy: 81.14% - Loss: 0.1886\n",
            "Iteration 11 - Accuracy: 81.29% - Loss: 0.1871\n",
            "Iteration 12 - Accuracy: 81.09% - Loss: 0.1891\n",
            "Iteration 13 - Accuracy: 81.09% - Loss: 0.1891\n",
            "Iteration 14 - Accuracy: 80.98% - Loss: 0.1902\n",
            "Iteration 15 - Accuracy: 81.54% - Loss: 0.1846\n",
            "Iteration 16 - Accuracy: 81.01% - Loss: 0.1899\n",
            "Iteration 17 - Accuracy: 81.85% - Loss: 0.1815\n",
            "Iteration 18 - Accuracy: 81.79% - Loss: 0.1821\n",
            "Iteration 19 - Accuracy: 81.27% - Loss: 0.1873\n",
            "Iteration 20 - Accuracy: 81.09% - Loss: 0.1891\n"
          ]
        }
      ],
      "source": [
        "from sklearn.tree import DecisionTreeClassifier\n",
        "from sklearn.metrics import accuracy_score\n",
        "from sklearn.model_selection import train_test_split\n",
        "\n",
        "# Make sure x and y are correctly defined with data\n",
        "\n",
        "# Initialize empty lists to store accuracy scores and losses\n",
        "accuracy_scores = []\n",
        "losses = []  # Define a list to store your custom loss values\n",
        "\n",
        "# Perform Decision Tree classification for 20 iterations\n",
        "for i in range(20):\n",
        "    # Split the data into training and testing sets (adjust sizes as needed)\n",
        "    X_train, X_test, y_train, y_test = train_test_split(x, y, test_size=0.3, random_state=i)\n",
        "\n",
        "    # Initialize a Decision Tree classifier\n",
        "    dt_model = DecisionTreeClassifier()\n",
        "\n",
        "    # Train the model on the training data\n",
        "    dt_model.fit(X_train, y_train)\n",
        "\n",
        "    # Make predictions on the test data\n",
        "    predictions = dt_model.predict(X_test)\n",
        "\n",
        "    # Calculate accuracy and append to the list\n",
        "    accuracy = accuracy_score(y_test, predictions)\n",
        "    accuracy_scores.append(accuracy)\n",
        "\n",
        "    # Define your custom loss function and calculate loss\n",
        "    # Here's an example using mean squared error as a loss function\n",
        "    # Replace this with your specific loss function\n",
        "    loss = ((y_test - predictions) ** 2).mean()\n",
        "    losses.append(loss)\n",
        "\n",
        "# Print the accuracy scores and losses for each iteration\n",
        "for i, (score, loss) in enumerate(zip(accuracy_scores, losses)):\n",
        "    print(f'Iteration {i + 1} - Accuracy: {score:.2%} - Loss: {loss:.4f}')\n"
      ]
    },
    {
      "cell_type": "code",
      "execution_count": null,
      "metadata": {
        "id": "LQILrkH6TAki"
      },
      "outputs": [],
      "source": []
    },
    {
      "cell_type": "code",
      "execution_count": null,
      "metadata": {
        "id": "pKz1cbFhvvue"
      },
      "outputs": [],
      "source": []
    },
    {
      "cell_type": "code",
      "source": [],
      "metadata": {
        "id": "XXYVUrQ_S_0G"
      },
      "execution_count": null,
      "outputs": []
    }
  ],
  "metadata": {
    "colab": {
      "provenance": []
    },
    "kernelspec": {
      "display_name": "Python 3",
      "name": "python3"
    },
    "language_info": {
      "name": "python"
    }
  },
  "nbformat": 4,
  "nbformat_minor": 0
}