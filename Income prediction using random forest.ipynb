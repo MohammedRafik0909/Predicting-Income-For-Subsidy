{
 "cells": [
  {
   "cell_type": "markdown",
   "id": "50eb0c70",
   "metadata": {},
   "source": [
    "# predicting Income for subsidy Using Random Forest algorithm"
   ]
  },
  {
   "cell_type": "code",
   "execution_count": 1,
   "id": "e2cb0ce3",
   "metadata": {},
   "outputs": [],
   "source": [
    "import pandas as pd\n",
    "import numpy as np \n",
    "import seaborn as sns \n",
    "from sklearn.model_selection import train_test_split \n",
    "from sklearn.ensemble import RandomForestClassifier \n",
    "from sklearn.metrics import accuracy_score, confusion_matrix"
   ]
  },
  {
   "cell_type": "code",
   "execution_count": 2,
   "id": "d8cb2ac5",
   "metadata": {},
   "outputs": [],
   "source": [
    "data = pd.read_csv('income(1) (2).csv', na_values=[\" ?\"]) "
   ]
  },
  {
   "cell_type": "code",
   "execution_count": 3,
   "id": "e2403b5d",
   "metadata": {},
   "outputs": [],
   "source": [
    "# Data pre-processing\n",
    "# =============================================================================\n",
    "\n",
    "data.isnull().sum()\n",
    "\n",
    "missing = data[data.isnull().any(axis=1)]\n",
    "# axis=1 => to consider at least one column value is missing in a row"
   ]
  },
  {
   "cell_type": "code",
   "execution_count": 4,
   "id": "f56b6e45",
   "metadata": {},
   "outputs": [],
   "source": [
    "data2 = data.dropna(axis=0)"
   ]
  },
  {
   "cell_type": "code",
   "execution_count": 5,
   "id": "b6123633",
   "metadata": {},
   "outputs": [
    {
     "name": "stdout",
     "output_type": "stream",
     "text": [
      "0        0\n",
      "1        0\n",
      "2        1\n",
      "3        0\n",
      "4        0\n",
      "        ..\n",
      "31973    0\n",
      "31974    0\n",
      "31975    0\n",
      "31976    0\n",
      "31977    0\n",
      "Name: SalStat, Length: 30162, dtype: int64\n"
     ]
    },
    {
     "name": "stderr",
     "output_type": "stream",
     "text": [
      "C:\\Users\\mohammed rafik m\\AppData\\Local\\Temp\\ipykernel_17024\\1442295000.py:2: SettingWithCopyWarning: \n",
      "A value is trying to be set on a copy of a slice from a DataFrame.\n",
      "Try using .loc[row_indexer,col_indexer] = value instead\n",
      "\n",
      "See the caveats in the documentation: https://pandas.pydata.org/pandas-docs/stable/user_guide/indexing.html#returning-a-view-versus-a-copy\n",
      "  data2['SalStat'] = data2['SalStat'].map({' less than or equal to 50,000': 0, ' greater than 50,000': 1})\n"
     ]
    }
   ],
   "source": [
    "\n",
    "# Reindexing the salary status names to 0,1\n",
    "data2['SalStat'] = data2['SalStat'].map({' less than or equal to 50,000': 0, ' greater than 50,000': 1})\n",
    "print(data2['SalStat'])\n"
   ]
  },
  {
   "cell_type": "code",
   "execution_count": 6,
   "id": "a561c78e",
   "metadata": {},
   "outputs": [],
   "source": [
    "new_data = pd.get_dummies(data2, drop_first=True)"
   ]
  },
  {
   "cell_type": "code",
   "execution_count": 7,
   "id": "d1f86c10",
   "metadata": {},
   "outputs": [
    {
     "name": "stdout",
     "output_type": "stream",
     "text": [
      "['age', 'capitalgain', 'capitalloss', 'hoursperweek', 'SalStat', 'JobType_ Local-gov', 'JobType_ Private', 'JobType_ Self-emp-inc', 'JobType_ Self-emp-not-inc', 'JobType_ State-gov', 'JobType_ Without-pay', 'EdType_ 11th', 'EdType_ 12th', 'EdType_ 1st-4th', 'EdType_ 5th-6th', 'EdType_ 7th-8th', 'EdType_ 9th', 'EdType_ Assoc-acdm', 'EdType_ Assoc-voc', 'EdType_ Bachelors', 'EdType_ Doctorate', 'EdType_ HS-grad', 'EdType_ Masters', 'EdType_ Preschool', 'EdType_ Prof-school', 'EdType_ Some-college', 'maritalstatus_ Married-AF-spouse', 'maritalstatus_ Married-civ-spouse', 'maritalstatus_ Married-spouse-absent', 'maritalstatus_ Never-married', 'maritalstatus_ Separated', 'maritalstatus_ Widowed', 'occupation_ Armed-Forces', 'occupation_ Craft-repair', 'occupation_ Exec-managerial', 'occupation_ Farming-fishing', 'occupation_ Handlers-cleaners', 'occupation_ Machine-op-inspct', 'occupation_ Other-service', 'occupation_ Priv-house-serv', 'occupation_ Prof-specialty', 'occupation_ Protective-serv', 'occupation_ Sales', 'occupation_ Tech-support', 'occupation_ Transport-moving', 'relationship_ Not-in-family', 'relationship_ Other-relative', 'relationship_ Own-child', 'relationship_ Unmarried', 'relationship_ Wife', 'race_ Asian-Pac-Islander', 'race_ Black', 'race_ Other', 'race_ White', 'gender_ Male', 'nativecountry_ Canada', 'nativecountry_ China', 'nativecountry_ Columbia', 'nativecountry_ Cuba', 'nativecountry_ Dominican-Republic', 'nativecountry_ Ecuador', 'nativecountry_ El-Salvador', 'nativecountry_ England', 'nativecountry_ France', 'nativecountry_ Germany', 'nativecountry_ Greece', 'nativecountry_ Guatemala', 'nativecountry_ Haiti', 'nativecountry_ Holand-Netherlands', 'nativecountry_ Honduras', 'nativecountry_ Hong', 'nativecountry_ Hungary', 'nativecountry_ India', 'nativecountry_ Iran', 'nativecountry_ Ireland', 'nativecountry_ Italy', 'nativecountry_ Jamaica', 'nativecountry_ Japan', 'nativecountry_ Laos', 'nativecountry_ Mexico', 'nativecountry_ Nicaragua', 'nativecountry_ Outlying-US(Guam-USVI-etc)', 'nativecountry_ Peru', 'nativecountry_ Philippines', 'nativecountry_ Poland', 'nativecountry_ Portugal', 'nativecountry_ Puerto-Rico', 'nativecountry_ Scotland', 'nativecountry_ South', 'nativecountry_ Taiwan', 'nativecountry_ Thailand', 'nativecountry_ Trinadad&Tobago', 'nativecountry_ United-States', 'nativecountry_ Vietnam', 'nativecountry_ Yugoslavia']\n"
     ]
    }
   ],
   "source": [
    "# Storing the column names \n",
    "columns_list = list(new_data.columns)\n",
    "print(columns_list)"
   ]
  },
  {
   "cell_type": "code",
   "execution_count": 8,
   "id": "9074c89b",
   "metadata": {},
   "outputs": [
    {
     "name": "stdout",
     "output_type": "stream",
     "text": [
      "['nativecountry_ Japan', 'EdType_ Some-college', 'maritalstatus_ Married-civ-spouse', 'occupation_ Prof-specialty', 'maritalstatus_ Separated', 'maritalstatus_ Married-spouse-absent', 'nativecountry_ Germany', 'EdType_ Assoc-voc', 'nativecountry_ Holand-Netherlands', 'JobType_ Private', 'EdType_ Doctorate', 'occupation_ Armed-Forces', 'EdType_ 11th', 'race_ White', 'EdType_ Masters', 'relationship_ Wife', 'age', 'nativecountry_ Mexico', 'nativecountry_ Guatemala', 'nativecountry_ Italy', 'JobType_ Without-pay', 'nativecountry_ El-Salvador', 'capitalloss', 'nativecountry_ United-States', 'nativecountry_ Greece', 'relationship_ Other-relative', 'nativecountry_ Dominican-Republic', 'nativecountry_ China', 'nativecountry_ Thailand', 'gender_ Male', 'race_ Black', 'nativecountry_ Canada', 'occupation_ Sales', 'nativecountry_ Haiti', 'nativecountry_ Vietnam', 'nativecountry_ Yugoslavia', 'EdType_ Bachelors', 'occupation_ Machine-op-inspct', 'nativecountry_ Trinadad&Tobago', 'capitalgain', 'nativecountry_ Taiwan', 'occupation_ Priv-house-serv', 'EdType_ 9th', 'nativecountry_ Philippines', 'nativecountry_ Portugal', 'nativecountry_ Ecuador', 'relationship_ Unmarried', 'nativecountry_ South', 'maritalstatus_ Never-married', 'nativecountry_ Jamaica', 'nativecountry_ Cuba', 'nativecountry_ Ireland', 'relationship_ Own-child', 'occupation_ Protective-serv', 'occupation_ Other-service', 'nativecountry_ Hungary', 'JobType_ Self-emp-inc', 'occupation_ Exec-managerial', 'hoursperweek', 'race_ Asian-Pac-Islander', 'nativecountry_ England', 'nativecountry_ France', 'nativecountry_ Hong', 'relationship_ Not-in-family', 'EdType_ HS-grad', 'nativecountry_ Columbia', 'EdType_ 1st-4th', 'occupation_ Transport-moving', 'EdType_ Assoc-acdm', 'race_ Other', 'JobType_ Self-emp-not-inc', 'JobType_ Local-gov', 'EdType_ 7th-8th', 'maritalstatus_ Married-AF-spouse', 'maritalstatus_ Widowed', 'nativecountry_ India', 'nativecountry_ Nicaragua', 'JobType_ State-gov', 'nativecountry_ Outlying-US(Guam-USVI-etc)', 'nativecountry_ Laos', 'occupation_ Farming-fishing', 'EdType_ 5th-6th', 'nativecountry_ Peru', 'nativecountry_ Poland', 'occupation_ Craft-repair', 'EdType_ 12th', 'EdType_ Preschool', 'nativecountry_ Puerto-Rico', 'EdType_ Prof-school', 'nativecountry_ Honduras', 'occupation_ Tech-support', 'occupation_ Handlers-cleaners', 'nativecountry_ Iran', 'nativecountry_ Scotland']\n"
     ]
    }
   ],
   "source": [
    "# Separating the input names from data\n",
    "features = list(set(columns_list) - set(['SalStat']))\n",
    "print(features)"
   ]
  },
  {
   "cell_type": "code",
   "execution_count": 9,
   "id": "b274ea3a",
   "metadata": {},
   "outputs": [
    {
     "name": "stdout",
     "output_type": "stream",
     "text": [
      "[0 0 1 ... 0 0 0]\n"
     ]
    }
   ],
   "source": [
    "# Storing the output values in y\n",
    "y = new_data['SalStat'].values\n",
    "print(y)\n"
   ]
  },
  {
   "cell_type": "code",
   "execution_count": 10,
   "id": "d96eb29a",
   "metadata": {},
   "outputs": [
    {
     "name": "stdout",
     "output_type": "stream",
     "text": [
      "[[0 0 0 ... 0 0 0]\n",
      " [0 0 0 ... 0 0 0]\n",
      " [0 1 1 ... 0 0 0]\n",
      " ...\n",
      " [0 1 1 ... 0 0 0]\n",
      " [0 1 1 ... 0 0 0]\n",
      " [0 0 0 ... 0 0 0]]\n"
     ]
    }
   ],
   "source": [
    "# Storing the values from input features\n",
    "x = new_data[features].values\n",
    "print(x)\n"
   ]
  },
  {
   "cell_type": "code",
   "execution_count": 11,
   "id": "0c75162b",
   "metadata": {},
   "outputs": [
    {
     "name": "stdout",
     "output_type": "stream",
     "text": [
      "Iteration 1 - Accuracy: 84.25%\n",
      "Iteration 2 - Accuracy: 84.69%\n",
      "Iteration 3 - Accuracy: 84.61%\n",
      "Iteration 4 - Accuracy: 84.27%\n",
      "Iteration 5 - Accuracy: 84.03%\n",
      "Iteration 6 - Accuracy: 84.44%\n",
      "Iteration 7 - Accuracy: 84.04%\n",
      "Iteration 8 - Accuracy: 84.52%\n",
      "Iteration 9 - Accuracy: 83.49%\n",
      "Iteration 10 - Accuracy: 84.50%\n",
      "Iteration 11 - Accuracy: 84.72%\n",
      "Iteration 12 - Accuracy: 84.10%\n",
      "Iteration 13 - Accuracy: 84.11%\n",
      "Iteration 14 - Accuracy: 84.36%\n",
      "Iteration 15 - Accuracy: 84.50%\n"
     ]
    }
   ],
   "source": [
    "from sklearn.ensemble import RandomForestClassifier\n",
    "from sklearn.metrics import accuracy_score\n",
    "\n",
    "# Make sure x and y are correctly defined with data\n",
    "\n",
    "# Initialize a Random Forest model\n",
    "model = RandomForestClassifier()\n",
    "\n",
    "# Initialize an empty list to store accuracy scores\n",
    "accuracy_scores = []\n",
    "\n",
    "# Perform Random Forest classification for 15 iterations\n",
    "for i in range(15):\n",
    "    # Split the data into training and testing sets (adjust sizes as needed)\n",
    "    train_x, test_x, train_y, test_y = train_test_split(x, y, test_size=0.3, random_state=i)\n",
    "    \n",
    "    # Train the model on the training data\n",
    "    model.fit(train_x, train_y)\n",
    "    \n",
    "    # Make predictions on the test data\n",
    "    predictions = model.predict(test_x)\n",
    "    \n",
    "    # Calculate accuracy and append to the list\n",
    "    accuracy = accuracy_score(test_y, predictions)\n",
    "    accuracy_scores.append(accuracy)\n",
    "\n",
    "# Print the accuracy scores for each iteration\n",
    "for i, score in enumerate(accuracy_scores):\n",
    "    print(f'Iteration {i + 1} - Accuracy: {score:.2%}')\n"
   ]
  },
  {
   "cell_type": "code",
   "execution_count": 12,
   "id": "7c46b857",
   "metadata": {},
   "outputs": [
    {
     "name": "stdout",
     "output_type": "stream",
     "text": [
      "Iteration 1 - Accuracy: 84.19% - Loss: 0.1581\n",
      "Iteration 2 - Accuracy: 84.61% - Loss: 0.1539\n",
      "Iteration 3 - Accuracy: 84.63% - Loss: 0.1537\n",
      "Iteration 4 - Accuracy: 84.12% - Loss: 0.1588\n",
      "Iteration 5 - Accuracy: 84.11% - Loss: 0.1589\n",
      "Iteration 6 - Accuracy: 84.24% - Loss: 0.1576\n",
      "Iteration 7 - Accuracy: 84.11% - Loss: 0.1589\n",
      "Iteration 8 - Accuracy: 84.46% - Loss: 0.1554\n",
      "Iteration 9 - Accuracy: 83.25% - Loss: 0.1675\n",
      "Iteration 10 - Accuracy: 84.39% - Loss: 0.1561\n",
      "Iteration 11 - Accuracy: 84.55% - Loss: 0.1545\n",
      "Iteration 12 - Accuracy: 84.12% - Loss: 0.1588\n",
      "Iteration 13 - Accuracy: 83.98% - Loss: 0.1602\n",
      "Iteration 14 - Accuracy: 84.21% - Loss: 0.1579\n",
      "Iteration 15 - Accuracy: 84.43% - Loss: 0.1557\n",
      "Iteration 16 - Accuracy: 84.63% - Loss: 0.1537\n",
      "Iteration 17 - Accuracy: 84.51% - Loss: 0.1549\n",
      "Iteration 18 - Accuracy: 84.31% - Loss: 0.1569\n",
      "Iteration 19 - Accuracy: 84.41% - Loss: 0.1559\n",
      "Iteration 20 - Accuracy: 84.34% - Loss: 0.1566\n"
     ]
    }
   ],
   "source": [
    "from sklearn.ensemble import RandomForestClassifier  # Import Random Forest Classifier\n",
    "from sklearn.metrics import accuracy_score\n",
    "from sklearn.model_selection import train_test_split\n",
    "\n",
    "# Make sure x and y are correctly defined with data\n",
    "\n",
    "# Initialize empty lists to store accuracy scores and losses\n",
    "accuracy_scores = []\n",
    "losses = []  # Define a list to store your custom loss values\n",
    "\n",
    "# Perform Random Forest classification for 20 iterations\n",
    "for i in range(20):\n",
    "    # Split the data into training and testing sets (adjust sizes as needed)\n",
    "    X_train, X_test, y_train, y_test = train_test_split(x, y, test_size=0.3, random_state=i)\n",
    "\n",
    "    # Initialize a Random Forest classifier with a specified number of estimators\n",
    "    n_estimators = 100  # You can adjust the number of estimators as needed\n",
    "    rf_model = RandomForestClassifier(n_estimators=n_estimators)\n",
    "\n",
    "    # Train the model on the training data\n",
    "    rf_model.fit(X_train, y_train)\n",
    "\n",
    "    # Make predictions on the test data\n",
    "    predictions = rf_model.predict(X_test)\n",
    "\n",
    "    # Calculate accuracy and append to the list\n",
    "    accuracy = accuracy_score(y_test, predictions)\n",
    "    accuracy_scores.append(accuracy)\n",
    "\n",
    "    # You need to define your custom loss function and calculate loss\n",
    "    # Here's an example using mean squared error as a loss function\n",
    "    # Replace this with your specific loss function\n",
    "    loss = ((y_test - predictions) ** 2).mean()\n",
    "    losses.append(loss)\n",
    "\n",
    "# Print the accuracy scores and losses for each iteration\n",
    "for i, (score, loss) in enumerate(zip(accuracy_scores, losses)):\n",
    "    print(f'Iteration {i + 1} - Accuracy: {score:.2%} - Loss: {loss:.4f}')\n"
   ]
  },
  {
   "cell_type": "code",
   "execution_count": 13,
   "id": "1060576d",
   "metadata": {},
   "outputs": [],
   "source": [
    "# Splitting the data into train and test\n",
    "train_x, test_x, train_y, test_y = train_test_split(x, y, test_size=0.3, random_state=0)\n"
   ]
  },
  {
   "cell_type": "code",
   "execution_count": 14,
   "id": "1af2ed1b",
   "metadata": {},
   "outputs": [
    {
     "data": {
      "text/plain": [
       "1"
      ]
     },
     "execution_count": 14,
     "metadata": {},
     "output_type": "execute_result"
    }
   ],
   "source": [
    "# Random Forest\n",
    "# =============================================================================\n",
    "\n",
    "# Storing the Random Forest Classifier\n",
    "rf_classifier = RandomForestClassifier(n_estimators=100, random_state=0)  \n",
    "\n",
    "# Fitting the values for X and Y\n",
    "rf_classifier.fit(train_x, train_y) \n",
    "1"
   ]
  },
  {
   "cell_type": "code",
   "execution_count": 14,
   "id": "a8b38862",
   "metadata": {},
   "outputs": [
    {
     "name": "stdout",
     "output_type": "stream",
     "text": [
      "[[6231  592]\n",
      " [ 837 1389]]\n"
     ]
    }
   ],
   "source": [
    "# Predicting the test values with the model\n",
    "prediction = rf_classifier.predict(test_x)\n",
    "\n",
    "# Performance metric check\n",
    "confusion_matrix_rf = confusion_matrix(test_y, prediction)\n",
    "print(confusion_matrix_rf)"
   ]
  },
  {
   "cell_type": "code",
   "execution_count": 15,
   "id": "6a8ad6ed",
   "metadata": {},
   "outputs": [
    {
     "name": "stdout",
     "output_type": "stream",
     "text": [
      "0.84208199801083\n"
     ]
    }
   ],
   "source": [
    "# Calculating the accuracy\n",
    "accuracy_score_rf = accuracy_score(test_y, prediction)\n",
    "print(accuracy_score_rf)"
   ]
  },
  {
   "cell_type": "code",
   "execution_count": 16,
   "id": "50063a70",
   "metadata": {},
   "outputs": [
    {
     "name": "stdout",
     "output_type": "stream",
     "text": [
      "Misclassified samples: 1429\n"
     ]
    }
   ],
   "source": [
    "print('Misclassified samples: %d' % (test_y != prediction).sum())"
   ]
  },
  {
   "cell_type": "code",
   "execution_count": 17,
   "id": "4f8610a4",
   "metadata": {},
   "outputs": [
    {
     "name": "stdout",
     "output_type": "stream",
     "text": [
      "['age', 'capitalgain', 'capitalloss', 'hoursperweek', 'SalStat', 'JobType_ Local-gov', 'JobType_ Private', 'JobType_ Self-emp-inc', 'JobType_ Self-emp-not-inc', 'JobType_ State-gov', 'JobType_ Without-pay', 'EdType_ 11th', 'EdType_ 12th', 'EdType_ 1st-4th', 'EdType_ 5th-6th', 'EdType_ 7th-8th', 'EdType_ 9th', 'EdType_ Assoc-acdm', 'EdType_ Assoc-voc', 'EdType_ Bachelors', 'EdType_ Doctorate', 'EdType_ HS-grad', 'EdType_ Masters', 'EdType_ Preschool', 'EdType_ Prof-school', 'EdType_ Some-college', 'maritalstatus_ Married-AF-spouse', 'maritalstatus_ Married-civ-spouse', 'maritalstatus_ Married-spouse-absent', 'maritalstatus_ Never-married', 'maritalstatus_ Separated', 'maritalstatus_ Widowed', 'occupation_ Armed-Forces', 'occupation_ Craft-repair', 'occupation_ Exec-managerial', 'occupation_ Farming-fishing', 'occupation_ Handlers-cleaners', 'occupation_ Machine-op-inspct', 'occupation_ Other-service', 'occupation_ Priv-house-serv', 'occupation_ Prof-specialty', 'occupation_ Protective-serv', 'occupation_ Sales', 'occupation_ Tech-support', 'occupation_ Transport-moving', 'relationship_ Not-in-family', 'relationship_ Other-relative', 'relationship_ Own-child', 'relationship_ Unmarried', 'relationship_ Wife', 'race_ Asian-Pac-Islander', 'race_ Black', 'race_ Other', 'race_ White', 'gender_ Male', 'nativecountry_ Canada', 'nativecountry_ China', 'nativecountry_ Columbia', 'nativecountry_ Cuba', 'nativecountry_ Dominican-Republic', 'nativecountry_ Ecuador', 'nativecountry_ El-Salvador', 'nativecountry_ England', 'nativecountry_ France', 'nativecountry_ Germany', 'nativecountry_ Greece', 'nativecountry_ Guatemala', 'nativecountry_ Haiti', 'nativecountry_ Holand-Netherlands', 'nativecountry_ Honduras', 'nativecountry_ Hong', 'nativecountry_ Hungary', 'nativecountry_ India', 'nativecountry_ Iran', 'nativecountry_ Ireland', 'nativecountry_ Italy', 'nativecountry_ Jamaica', 'nativecountry_ Japan', 'nativecountry_ Laos', 'nativecountry_ Mexico', 'nativecountry_ Nicaragua', 'nativecountry_ Outlying-US(Guam-USVI-etc)', 'nativecountry_ Peru', 'nativecountry_ Philippines', 'nativecountry_ Poland', 'nativecountry_ Portugal', 'nativecountry_ Puerto-Rico', 'nativecountry_ Scotland', 'nativecountry_ South', 'nativecountry_ Taiwan', 'nativecountry_ Thailand', 'nativecountry_ Trinadad&Tobago', 'nativecountry_ United-States', 'nativecountry_ Vietnam', 'nativecountry_ Yugoslavia']\n",
      "['nativecountry_ Ecuador', 'relationship_ Unmarried', 'age', 'race_ Other', 'gender_ Male', 'occupation_ Farming-fishing', 'occupation_ Exec-managerial', 'EdType_ 9th', 'relationship_ Own-child', 'maritalstatus_ Married-spouse-absent', 'occupation_ Armed-Forces', 'nativecountry_ Dominican-Republic', 'occupation_ Prof-specialty', 'EdType_ Some-college', 'nativecountry_ United-States', 'race_ Asian-Pac-Islander', 'EdType_ Doctorate', 'occupation_ Sales', 'maritalstatus_ Widowed', 'hoursperweek', 'EdType_ Assoc-acdm', 'EdType_ 5th-6th', 'EdType_ Assoc-voc', 'nativecountry_ China', 'nativecountry_ Mexico', 'nativecountry_ Greece', 'occupation_ Priv-house-serv', 'occupation_ Craft-repair', 'capitalloss', 'maritalstatus_ Married-civ-spouse', 'nativecountry_ England', 'nativecountry_ Laos', 'relationship_ Other-relative', 'nativecountry_ Hungary', 'race_ Black', 'occupation_ Handlers-cleaners', 'EdType_ 11th', 'race_ White', 'maritalstatus_ Separated', 'nativecountry_ Ireland', 'JobType_ State-gov', 'nativecountry_ Japan', 'nativecountry_ Canada', 'nativecountry_ India', 'EdType_ Prof-school', 'nativecountry_ Holand-Netherlands', 'nativecountry_ Nicaragua', 'nativecountry_ Philippines', 'nativecountry_ Haiti', 'maritalstatus_ Never-married', 'occupation_ Tech-support', 'JobType_ Local-gov', 'nativecountry_ Poland', 'nativecountry_ Puerto-Rico', 'nativecountry_ Iran', 'nativecountry_ Portugal', 'JobType_ Self-emp-not-inc', 'capitalgain', 'EdType_ 12th', 'nativecountry_ Yugoslavia', 'JobType_ Without-pay', 'nativecountry_ Outlying-US(Guam-USVI-etc)', 'EdType_ 7th-8th', 'JobType_ Self-emp-inc', 'nativecountry_ Germany', 'nativecountry_ Trinadad&Tobago', 'nativecountry_ Guatemala', 'nativecountry_ Hong', 'nativecountry_ Peru', 'nativecountry_ Taiwan', 'EdType_ HS-grad', 'JobType_ Private', 'nativecountry_ El-Salvador', 'nativecountry_ Scotland', 'occupation_ Machine-op-inspct', 'nativecountry_ Italy', 'EdType_ Bachelors', 'nativecountry_ Vietnam', 'occupation_ Other-service', 'occupation_ Transport-moving', 'nativecountry_ South', 'EdType_ 1st-4th', 'occupation_ Protective-serv', 'nativecountry_ Cuba', 'nativecountry_ Columbia', 'nativecountry_ Thailand', 'EdType_ Masters', 'nativecountry_ Jamaica', 'relationship_ Not-in-family', 'relationship_ Wife', 'maritalstatus_ Married-AF-spouse', 'nativecountry_ Honduras', 'EdType_ Preschool', 'nativecountry_ France']\n",
      "[0 0 1 ... 0 0 0]\n",
      "[[ 0  0 45 ...  0  0  0]\n",
      " [ 0  0 24 ...  0  0  0]\n",
      " [ 0  0 44 ...  0  0  0]\n",
      " ...\n",
      " [ 0  0 23 ...  0  0  0]\n",
      " [ 0  0 42 ...  0  0  0]\n",
      " [ 0  0 29 ...  0  0  0]]\n"
     ]
    }
   ],
   "source": [
    "# Storing the column names \n",
    "columns_list = list(new_data.columns)\n",
    "print(columns_list)\n",
    "\n",
    "# Separating the input names from data\n",
    "features = list(set(columns_list) - set(['SalStat']))\n",
    "print(features)\n",
    "\n",
    "# Storing the output values in y\n",
    "y = new_data['SalStat'].values\n",
    "print(y)\n",
    "\n",
    "# Storing the values from input features\n",
    "x = new_data[features].values\n",
    "print(x)\n",
    "\n",
    "# Splitting the data into train and test\n",
    "train_x, test_x, train_y, test_y = train_test_split(x, y, test_size=0.2, random_state=0)\n",
    "\n",
    "# =============================================================================\n",
    "# Random Forest\n",
    "# =============================================================================\n",
    "\n"
   ]
  },
  {
   "cell_type": "code",
   "execution_count": 18,
   "id": "949293f1",
   "metadata": {},
   "outputs": [
    {
     "data": {
      "text/plain": [
       "RandomForestClassifier(max_depth=20, n_estimators=300, random_state=0)"
      ]
     },
     "execution_count": 18,
     "metadata": {},
     "output_type": "execute_result"
    }
   ],
   "source": [
    "# Storing the Random Forest Classifier with hyperparameter tuning\n",
    "rf_classifier = RandomForestClassifier(n_estimators=300, max_depth=20, min_samples_split=2, min_samples_leaf=1, random_state=0)  \n",
    "\n",
    "# Fitting the values for X and Y\n",
    "rf_classifier.fit(train_x, train_y) \n",
    "\n"
   ]
  },
  {
   "cell_type": "code",
   "execution_count": 19,
   "id": "6db9a8f7",
   "metadata": {},
   "outputs": [
    {
     "name": "stdout",
     "output_type": "stream",
     "text": [
      "[[4282  248]\n",
      " [ 636  867]]\n",
      "random forest algorithm\n",
      "Accuracy Score: 0.8534725675451682\n",
      "Misclassified samples: 884\n"
     ]
    }
   ],
   "source": [
    "# Predicting the test values with the model\n",
    "prediction = rf_classifier.predict(test_x)\n",
    "\n",
    "# Performance metric check\n",
    "confusion_matrix_rf = confusion_matrix(test_y, prediction)\n",
    "print(confusion_matrix_rf)\n",
    "\n",
    "# Calculating the accuracy\n",
    "accuracy_score_rf = accuracy_score(test_y, prediction)\n",
    "print(\"random forest algorithm\")\n",
    "print(\"Accuracy Score:\", accuracy_score_rf)\n",
    "\n",
    "print('Misclassified samples: %d' % (test_y != prediction).sum())"
   ]
  },
  {
   "cell_type": "code",
   "execution_count": 20,
   "id": "47118f53",
   "metadata": {},
   "outputs": [
    {
     "name": "stdout",
     "output_type": "stream",
     "text": [
      "[[4285  245]\n",
      " [ 641  862]]\n",
      "Accuracy Score: 0.8531410575169899\n",
      "Misclassified samples: 886\n"
     ]
    }
   ],
   "source": [
    "# Storing the Random Forest Classifier with hyperparameter tuning\n",
    "rf_classifier = RandomForestClassifier(n_estimators=500, max_depth=20, min_samples_split=5, min_samples_leaf=2, random_state=0)  \n",
    "\n",
    "# Fitting the values for X and Y\n",
    "rf_classifier.fit(train_x, train_y) \n",
    "\n",
    "# Predicting the test values with the model\n",
    "prediction = rf_classifier.predict(test_x)\n",
    "\n",
    "# Performance metric check\n",
    "confusion_matrix_rf = confusion_matrix(test_y, prediction)\n",
    "print(confusion_matrix_rf)\n",
    "\n",
    "# Calculating the accuracy\n",
    "accuracy_score_rf = accuracy_score(test_y, prediction)\n",
    "print(\"Accuracy Score:\", accuracy_score_rf)\n",
    "\n",
    "print('Misclassified samples: %d' % (test_y != prediction).sum())"
   ]
  },
  {
   "cell_type": "code",
   "execution_count": null,
   "id": "7a6a95ec",
   "metadata": {},
   "outputs": [],
   "source": []
  }
 ],
 "metadata": {
  "kernelspec": {
   "display_name": "Python 3 (ipykernel)",
   "language": "python",
   "name": "python3"
  },
  "language_info": {
   "codemirror_mode": {
    "name": "ipython",
    "version": 3
   },
   "file_extension": ".py",
   "mimetype": "text/x-python",
   "name": "python",
   "nbconvert_exporter": "python",
   "pygments_lexer": "ipython3",
   "version": "3.9.12"
  }
 },
 "nbformat": 4,
 "nbformat_minor": 5
}
